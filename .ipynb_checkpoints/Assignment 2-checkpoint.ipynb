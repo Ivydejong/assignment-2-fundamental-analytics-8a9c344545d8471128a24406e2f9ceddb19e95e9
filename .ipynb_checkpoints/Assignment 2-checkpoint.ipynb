{
 "cells": [
  {
   "cell_type": "markdown",
   "id": "49639ad6",
   "metadata": {},
   "source": [
    "<h1><center> SEN163A - Fundamentals of Data Analytics </center>\n",
    "<center> Assignment 2 - Large Scale Internet Data Analysis  </center></h1>\n",
    "\n",
    "<center> Lecture:\n",
    "Ir. Jacopo De Stefani - [J.deStefani@tudelft.nl](mailto:J.deStefani@tudelft.nl)\n",
    "Joao Pizani Flor, M.Sc. - [J.p.pizaniflor@tudelft.nl](mailto:J.p.pizaniflor@tudelft.nl) </center>\n",
    "\n",
    "## Group 3\n",
    "\n",
    "\n",
    "## Outline:\n",
    "1. [Introduction](#1.-Introduction)\n",
    "2. [Data Description](#2.-Data Description)\n",
    "3. [Formulation](#3.-Formulation)\n",
    "4. [Conclusion](#4.-Conclusion)\n",
    "5. [Reference](#5.-Reference)\n",
    "\n",
    "## 1. Introduction\n",
    "\n",
    "### Definition\n",
    "\n",
    "An autonomous system number is a unique identifier that is globally available and allows its autonomous system to exchange routing information with other systems.\n",
    "\n",
    "### Overview\n",
    "\n",
    "The Groote Nationale Investeer Bank (GNI Bank) is a large European bank and is preparing to enter the\n",
    "mobile banking sector. They have hired your advisory firm to prepare a strategy. Your data analytics team\n",
    "has been put on the task of finding the best four datacenter locations for hosting in the EU.\n",
    "\n",
    "\n",
    "### Requested tasks:\n",
    "- Evaluate if there are limitations in the provided datasets (AS and probe data set). If you find limitations, describe these and conjecture possible reasons, supported with data.\n",
    "- With the AS and probe data set, find the number m of AS’s that can be used for hosting in the EU and have probes in the RIPE data set. Sort the ASN’s in ascending order and include the first and last three in your report (number, name and country).\n",
    "- For a single hour in the RIPE data set: find all valid entries where the probe has hosting type AS and the target IPv4 is from an EU country. Implement this in an efficient way.\n",
    "- Move from using only an hour to the full day. It is advisable to store the raw results of each file. Then, using all processed files, calculate the average latency’s for each country-AS combination and store the results into one ncountries ×m matrix. If we could place one server in each country, what would the minimum average latency be for each country? (include in your report)\n",
    "- Since we are only allowed to place four servers, determine the best four datacenters based on the total latency for all countries. Report your findings and your procedure to obtain them. Also include the average latency for each country.\n"
   ]
  },
  {
   "cell_type": "markdown",
   "id": "9ae39636",
   "metadata": {},
   "source": [
    "## 2. Data Description"
   ]
  },
  {
   "cell_type": "markdown",
   "id": "51bf29a8",
   "metadata": {},
   "source": [
    "### Task A\n",
    "Evaluate AS data and Probe Data"
   ]
  },
  {
   "cell_type": "markdown",
   "id": "4cacd443",
   "metadata": {},
   "source": [
    "## AS Data"
   ]
  },
  {
   "cell_type": "code",
   "execution_count": 1,
   "id": "7a41e78e",
   "metadata": {},
   "outputs": [],
   "source": [
    "import pickle\n",
    "import pandas as pd\n",
    "import ipaddress\n",
    "import numpy as np\n",
    "\n",
    "# Open the file in binary mode\n",
    "with open('AS_dataset.pkl', 'rb') as file: #rb means in read mode\n",
    "\t\n",
    "\t# Call load method to deserialze\n",
    "\tAS_df = pickle.load(file)"
   ]
  },
  {
   "cell_type": "code",
   "execution_count": 2,
   "id": "0b16d7a2",
   "metadata": {},
   "outputs": [
    {
     "data": {
      "text/plain": [
       "(60122, 5)"
      ]
     },
     "execution_count": 2,
     "metadata": {},
     "output_type": "execute_result"
    }
   ],
   "source": [
    "AS_df.shape #know columns and rows of the AS dataframe"
   ]
  },
  {
   "cell_type": "code",
   "execution_count": 3,
   "id": "b79c28b0",
   "metadata": {},
   "outputs": [
    {
     "data": {
      "text/html": [
       "<div>\n",
       "<style scoped>\n",
       "    .dataframe tbody tr th:only-of-type {\n",
       "        vertical-align: middle;\n",
       "    }\n",
       "\n",
       "    .dataframe tbody tr th {\n",
       "        vertical-align: top;\n",
       "    }\n",
       "\n",
       "    .dataframe thead th {\n",
       "        text-align: right;\n",
       "    }\n",
       "</style>\n",
       "<table border=\"1\" class=\"dataframe\">\n",
       "  <thead>\n",
       "    <tr style=\"text-align: right;\">\n",
       "      <th></th>\n",
       "      <th>ASN</th>\n",
       "      <th>Country</th>\n",
       "      <th>Name</th>\n",
       "      <th>NumIPs</th>\n",
       "      <th>type</th>\n",
       "    </tr>\n",
       "  </thead>\n",
       "  <tbody>\n",
       "    <tr>\n",
       "      <th>0</th>\n",
       "      <td>AS55330</td>\n",
       "      <td>AF</td>\n",
       "      <td>AFGHANTELECOM GOVERNMENT COMMUNICATION NETWORK</td>\n",
       "      <td>50,432</td>\n",
       "      <td>hosting</td>\n",
       "    </tr>\n",
       "    <tr>\n",
       "      <th>1</th>\n",
       "      <td>AS17411</td>\n",
       "      <td>AF</td>\n",
       "      <td>Io Global Services Pvt. Limited</td>\n",
       "      <td>13,568</td>\n",
       "      <td>business</td>\n",
       "    </tr>\n",
       "    <tr>\n",
       "      <th>2</th>\n",
       "      <td>AS55424</td>\n",
       "      <td>AF</td>\n",
       "      <td>Instatelecom Limited</td>\n",
       "      <td>13,312</td>\n",
       "      <td>business</td>\n",
       "    </tr>\n",
       "    <tr>\n",
       "      <th>3</th>\n",
       "      <td>AS38742</td>\n",
       "      <td>AF</td>\n",
       "      <td>AWCC</td>\n",
       "      <td>11,520</td>\n",
       "      <td>isp</td>\n",
       "    </tr>\n",
       "    <tr>\n",
       "      <th>4</th>\n",
       "      <td>AS131284</td>\n",
       "      <td>AF</td>\n",
       "      <td>Etisalat Afghan</td>\n",
       "      <td>10,240</td>\n",
       "      <td>isp</td>\n",
       "    </tr>\n",
       "    <tr>\n",
       "      <th>5</th>\n",
       "      <td>AS45178</td>\n",
       "      <td>AF</td>\n",
       "      <td>ROSHAN-AF</td>\n",
       "      <td>5,376</td>\n",
       "      <td>business</td>\n",
       "    </tr>\n",
       "    <tr>\n",
       "      <th>6</th>\n",
       "      <td>AS132471</td>\n",
       "      <td>AF</td>\n",
       "      <td>MTNAFGHANISTAN</td>\n",
       "      <td>4,864</td>\n",
       "      <td>business</td>\n",
       "    </tr>\n",
       "    <tr>\n",
       "      <th>7</th>\n",
       "      <td>AS7494</td>\n",
       "      <td>AF</td>\n",
       "      <td>CeReTechs Co ltd</td>\n",
       "      <td>4,096</td>\n",
       "      <td>business</td>\n",
       "    </tr>\n",
       "    <tr>\n",
       "      <th>8</th>\n",
       "      <td>AS138322</td>\n",
       "      <td>AF</td>\n",
       "      <td>Afghan Wireless</td>\n",
       "      <td>3,584</td>\n",
       "      <td>business</td>\n",
       "    </tr>\n",
       "    <tr>\n",
       "      <th>9</th>\n",
       "      <td>AS55745</td>\n",
       "      <td>AF</td>\n",
       "      <td>Neda Telecommunications</td>\n",
       "      <td>2,560</td>\n",
       "      <td>business</td>\n",
       "    </tr>\n",
       "  </tbody>\n",
       "</table>\n",
       "</div>"
      ],
      "text/plain": [
       "        ASN Country                                            Name  NumIPs  \\\n",
       "0   AS55330      AF  AFGHANTELECOM GOVERNMENT COMMUNICATION NETWORK  50,432   \n",
       "1   AS17411      AF                 Io Global Services Pvt. Limited  13,568   \n",
       "2   AS55424      AF                            Instatelecom Limited  13,312   \n",
       "3   AS38742      AF                                            AWCC  11,520   \n",
       "4  AS131284      AF                                 Etisalat Afghan  10,240   \n",
       "5   AS45178      AF                                       ROSHAN-AF   5,376   \n",
       "6  AS132471      AF                                  MTNAFGHANISTAN   4,864   \n",
       "7    AS7494      AF                                CeReTechs Co ltd   4,096   \n",
       "8  AS138322      AF                                 Afghan Wireless   3,584   \n",
       "9   AS55745      AF                         Neda Telecommunications   2,560   \n",
       "\n",
       "       type  \n",
       "0   hosting  \n",
       "1  business  \n",
       "2  business  \n",
       "3       isp  \n",
       "4       isp  \n",
       "5  business  \n",
       "6  business  \n",
       "7  business  \n",
       "8  business  \n",
       "9  business  "
      ]
     },
     "execution_count": 3,
     "metadata": {},
     "output_type": "execute_result"
    }
   ],
   "source": [
    "AS_df.head(10) #show first 10 row of the dataset"
   ]
  },
  {
   "cell_type": "code",
   "execution_count": 4,
   "id": "52ea12ef",
   "metadata": {},
   "outputs": [
    {
     "data": {
      "text/html": [
       "<div>\n",
       "<style scoped>\n",
       "    .dataframe tbody tr th:only-of-type {\n",
       "        vertical-align: middle;\n",
       "    }\n",
       "\n",
       "    .dataframe tbody tr th {\n",
       "        vertical-align: top;\n",
       "    }\n",
       "\n",
       "    .dataframe thead th {\n",
       "        text-align: right;\n",
       "    }\n",
       "</style>\n",
       "<table border=\"1\" class=\"dataframe\">\n",
       "  <thead>\n",
       "    <tr style=\"text-align: right;\">\n",
       "      <th></th>\n",
       "      <th>ASN</th>\n",
       "      <th>Country</th>\n",
       "      <th>Name</th>\n",
       "      <th>NumIPs</th>\n",
       "      <th>type</th>\n",
       "    </tr>\n",
       "  </thead>\n",
       "  <tbody>\n",
       "    <tr>\n",
       "      <th>60112</th>\n",
       "      <td>AS327863</td>\n",
       "      <td>ZW</td>\n",
       "      <td>University of Zimbabwe</td>\n",
       "      <td>256</td>\n",
       "      <td>education</td>\n",
       "    </tr>\n",
       "    <tr>\n",
       "      <th>60113</th>\n",
       "      <td>AS328235</td>\n",
       "      <td>ZW</td>\n",
       "      <td>Zimbabwe Internet Exchange</td>\n",
       "      <td>256</td>\n",
       "      <td>isp</td>\n",
       "    </tr>\n",
       "    <tr>\n",
       "      <th>60114</th>\n",
       "      <td>AS37329</td>\n",
       "      <td>ZW</td>\n",
       "      <td>Frampol Investments</td>\n",
       "      <td>0</td>\n",
       "      <td>isp</td>\n",
       "    </tr>\n",
       "    <tr>\n",
       "      <th>60115</th>\n",
       "      <td>AS27576</td>\n",
       "      <td>ZW</td>\n",
       "      <td>AFRICA ONLINE ZIMBABWE</td>\n",
       "      <td>0</td>\n",
       "      <td>isp</td>\n",
       "    </tr>\n",
       "    <tr>\n",
       "      <th>60116</th>\n",
       "      <td>AS328291</td>\n",
       "      <td>ZW</td>\n",
       "      <td>Veritran (Private) Limited</td>\n",
       "      <td>0</td>\n",
       "      <td>isp</td>\n",
       "    </tr>\n",
       "    <tr>\n",
       "      <th>60117</th>\n",
       "      <td>AS37332</td>\n",
       "      <td>ZW</td>\n",
       "      <td>Zimbabwe Online</td>\n",
       "      <td>0</td>\n",
       "      <td>education</td>\n",
       "    </tr>\n",
       "    <tr>\n",
       "      <th>60118</th>\n",
       "      <td>AS37344</td>\n",
       "      <td>ZW</td>\n",
       "      <td>ZIMBABWE OPEN UNIVERSITY</td>\n",
       "      <td>0</td>\n",
       "      <td>business</td>\n",
       "    </tr>\n",
       "    <tr>\n",
       "      <th>60119</th>\n",
       "      <td>AS37355</td>\n",
       "      <td>ZW</td>\n",
       "      <td>Zimbabwe Internet Exchange</td>\n",
       "      <td>0</td>\n",
       "      <td>business</td>\n",
       "    </tr>\n",
       "    <tr>\n",
       "      <th>60120</th>\n",
       "      <td>AS37391</td>\n",
       "      <td>ZW</td>\n",
       "      <td>Esmalo Enterprises</td>\n",
       "      <td>0</td>\n",
       "      <td>business</td>\n",
       "    </tr>\n",
       "    <tr>\n",
       "      <th>60121</th>\n",
       "      <td>AS37485</td>\n",
       "      <td>ZW</td>\n",
       "      <td>Data Control and Systems</td>\n",
       "      <td>0</td>\n",
       "      <td>business</td>\n",
       "    </tr>\n",
       "  </tbody>\n",
       "</table>\n",
       "</div>"
      ],
      "text/plain": [
       "            ASN Country                        Name NumIPs       type\n",
       "60112  AS327863      ZW      University of Zimbabwe    256  education\n",
       "60113  AS328235      ZW  Zimbabwe Internet Exchange    256        isp\n",
       "60114   AS37329      ZW         Frampol Investments      0        isp\n",
       "60115   AS27576      ZW      AFRICA ONLINE ZIMBABWE      0        isp\n",
       "60116  AS328291      ZW  Veritran (Private) Limited      0        isp\n",
       "60117   AS37332      ZW             Zimbabwe Online      0  education\n",
       "60118   AS37344      ZW    ZIMBABWE OPEN UNIVERSITY      0   business\n",
       "60119   AS37355      ZW  Zimbabwe Internet Exchange      0   business\n",
       "60120   AS37391      ZW          Esmalo Enterprises      0   business\n",
       "60121   AS37485      ZW    Data Control and Systems      0   business"
      ]
     },
     "execution_count": 4,
     "metadata": {},
     "output_type": "execute_result"
    }
   ],
   "source": [
    "AS_df.tail(10) #show last 10 row of the dataset"
   ]
  },
  {
   "cell_type": "markdown",
   "id": "4e489bc2",
   "metadata": {},
   "source": [
    "### AS Column Description\n",
    "\n",
    "- ASN : autonomus system number\n",
    "- Country : specific country that is represented by the ASN\n",
    "- Name : name of the company that use the ASN\n",
    "- NumIPs : number of IPs used for the ASN\n",
    "- Type : type of purpose of the ASN"
   ]
  },
  {
   "cell_type": "code",
   "execution_count": 5,
   "id": "ec06d329",
   "metadata": {},
   "outputs": [
    {
     "data": {
      "text/html": [
       "<div>\n",
       "<style scoped>\n",
       "    .dataframe tbody tr th:only-of-type {\n",
       "        vertical-align: middle;\n",
       "    }\n",
       "\n",
       "    .dataframe tbody tr th {\n",
       "        vertical-align: top;\n",
       "    }\n",
       "\n",
       "    .dataframe thead th {\n",
       "        text-align: right;\n",
       "    }\n",
       "</style>\n",
       "<table border=\"1\" class=\"dataframe\">\n",
       "  <thead>\n",
       "    <tr style=\"text-align: right;\">\n",
       "      <th></th>\n",
       "      <th>ASN</th>\n",
       "      <th>Country</th>\n",
       "      <th>Name</th>\n",
       "      <th>NumIPs</th>\n",
       "      <th>type</th>\n",
       "    </tr>\n",
       "  </thead>\n",
       "  <tbody>\n",
       "    <tr>\n",
       "      <th>count</th>\n",
       "      <td>60122</td>\n",
       "      <td>60122</td>\n",
       "      <td>60122</td>\n",
       "      <td>60122</td>\n",
       "      <td>60122</td>\n",
       "    </tr>\n",
       "    <tr>\n",
       "      <th>unique</th>\n",
       "      <td>60122</td>\n",
       "      <td>237</td>\n",
       "      <td>51848</td>\n",
       "      <td>1673</td>\n",
       "      <td>5</td>\n",
       "    </tr>\n",
       "    <tr>\n",
       "      <th>top</th>\n",
       "      <td>AS55330</td>\n",
       "      <td>DE</td>\n",
       "      <td>Renater</td>\n",
       "      <td>0</td>\n",
       "      <td>business</td>\n",
       "    </tr>\n",
       "    <tr>\n",
       "      <th>freq</th>\n",
       "      <td>1</td>\n",
       "      <td>2500</td>\n",
       "      <td>307</td>\n",
       "      <td>15107</td>\n",
       "      <td>33612</td>\n",
       "    </tr>\n",
       "  </tbody>\n",
       "</table>\n",
       "</div>"
      ],
      "text/plain": [
       "            ASN Country     Name NumIPs      type\n",
       "count     60122   60122    60122  60122     60122\n",
       "unique    60122     237    51848   1673         5\n",
       "top     AS55330      DE  Renater      0  business\n",
       "freq          1    2500      307  15107     33612"
      ]
     },
     "execution_count": 5,
     "metadata": {},
     "output_type": "execute_result"
    }
   ],
   "source": [
    "AS_df.describe() #summarize description of the AS dataframe"
   ]
  },
  {
   "cell_type": "markdown",
   "id": "d8ecb309",
   "metadata": {},
   "source": [
    "From the table above, the NumIPs = 0 probably indicates that specified ASN is not used. In the next step, the NumIPs = 0 could be filtered from the data in order to use active ASN only."
   ]
  },
  {
   "cell_type": "code",
   "execution_count": 6,
   "id": "4f4e9dab",
   "metadata": {},
   "outputs": [
    {
     "data": {
      "text/plain": [
       "ASN        0.251272\n",
       "Country    0.251272\n",
       "Name       0.251272\n",
       "NumIPs     0.251272\n",
       "type       0.251272\n",
       "dtype: float64"
      ]
     },
     "execution_count": 6,
     "metadata": {},
     "output_type": "execute_result"
    }
   ],
   "source": [
    "AS_df[AS_df['NumIPs'] == '0'].count() / AS_df['NumIPs'].count() \n",
    "#identify NumIPs that is equal to 0, which is not utilized."
   ]
  },
  {
   "cell_type": "markdown",
   "id": "6b37d511",
   "metadata": {},
   "source": [
    "There are 25,12% of 0 NumIPs in the AS dataset. Take a note that later the NumIPs 0 should be filtered later to use only valid values."
   ]
  },
  {
   "cell_type": "code",
   "execution_count": 7,
   "id": "7092ec6e",
   "metadata": {},
   "outputs": [
    {
     "data": {
      "text/plain": [
       "DE    2500\n",
       "BR    2500\n",
       "PL    2500\n",
       "IN    2500\n",
       "RU    2500\n",
       "      ... \n",
       "UM       1\n",
       "AQ       1\n",
       "FK       1\n",
       "MP       1\n",
       "KP       1\n",
       "Name: Country, Length: 237, dtype: int64"
      ]
     },
     "execution_count": 7,
     "metadata": {},
     "output_type": "execute_result"
    }
   ],
   "source": [
    "AS_df['Country'].value_counts() #count total country in the dataset"
   ]
  },
  {
   "cell_type": "markdown",
   "id": "3288bbde",
   "metadata": {},
   "source": [
    "There are 237 countries ranging from different continent. However this dataset only represents the country, not including the continent. To observe EU only, there should be another additional data point used to utilized only ASN from EU countries."
   ]
  },
  {
   "cell_type": "code",
   "execution_count": 8,
   "id": "2160a326",
   "metadata": {},
   "outputs": [
    {
     "data": {
      "text/plain": [
       "business     33612\n",
       "unk          11052\n",
       "isp          10989\n",
       "hosting       2847\n",
       "education     1622\n",
       "Name: type, dtype: int64"
      ]
     },
     "execution_count": 8,
     "metadata": {},
     "output_type": "execute_result"
    }
   ],
   "source": [
    "AS_df['type'].value_counts() #count value of type"
   ]
  },
  {
   "cell_type": "code",
   "execution_count": 9,
   "id": "7a688be1",
   "metadata": {},
   "outputs": [
    {
     "data": {
      "text/plain": [
       "business     26835\n",
       "isp           8739\n",
       "unk           5839\n",
       "hosting       2310\n",
       "education     1292\n",
       "Name: type, dtype: int64"
      ]
     },
     "execution_count": 9,
     "metadata": {},
     "output_type": "execute_result"
    }
   ],
   "source": [
    "AS_df[AS_df['NumIPs'] != '0']['type'].value_counts() #identify hosting type with NumIPs is not 0."
   ]
  },
  {
   "cell_type": "markdown",
   "id": "4208ac7e",
   "metadata": {},
   "source": [
    "There are 5 types of the ASN purpose. Later, it is obligated to filter the dataset only for 'hosting' type which consists of 2310 data."
   ]
  },
  {
   "cell_type": "code",
   "execution_count": 10,
   "id": "e56506dd",
   "metadata": {},
   "outputs": [
    {
     "name": "stdout",
     "output_type": "stream",
     "text": [
      "<class 'pandas.core.frame.DataFrame'>\n",
      "RangeIndex: 60122 entries, 0 to 60121\n",
      "Data columns (total 5 columns):\n",
      " #   Column   Non-Null Count  Dtype \n",
      "---  ------   --------------  ----- \n",
      " 0   ASN      60122 non-null  object\n",
      " 1   Country  60122 non-null  object\n",
      " 2   Name     60122 non-null  object\n",
      " 3   NumIPs   60122 non-null  object\n",
      " 4   type     60122 non-null  object\n",
      "dtypes: object(5)\n",
      "memory usage: 2.3+ MB\n"
     ]
    }
   ],
   "source": [
    "AS_df.info() \n",
    "#limitation: different data types between AS and Probe data should be converted into same data type. Data from pickle should be converted first\n",
    "#format pkl data type provides all same object datatype"
   ]
  },
  {
   "cell_type": "code",
   "execution_count": 11,
   "id": "2ab27f3d",
   "metadata": {},
   "outputs": [],
   "source": [
    "AS_df = AS_df.astype(dtype={'ASN': 'string'}) #convert the data type of ASN from object to string"
   ]
  },
  {
   "cell_type": "code",
   "execution_count": 12,
   "id": "4d4ab55f",
   "metadata": {},
   "outputs": [],
   "source": [
    "AS_df['NumIPs'] = AS_df['NumIPs'].str.replace(',', '').astype(float).astype(int)\n",
    "#remove comma between numbers\n",
    "#convert to float\n",
    "#convert to int"
   ]
  },
  {
   "cell_type": "code",
   "execution_count": 13,
   "id": "7be1ad0f",
   "metadata": {},
   "outputs": [
    {
     "name": "stdout",
     "output_type": "stream",
     "text": [
      "<class 'pandas.core.frame.DataFrame'>\n",
      "RangeIndex: 60122 entries, 0 to 60121\n",
      "Data columns (total 5 columns):\n",
      " #   Column   Non-Null Count  Dtype \n",
      "---  ------   --------------  ----- \n",
      " 0   ASN      60122 non-null  string\n",
      " 1   Country  60122 non-null  object\n",
      " 2   Name     60122 non-null  object\n",
      " 3   NumIPs   60122 non-null  int32 \n",
      " 4   type     60122 non-null  object\n",
      "dtypes: int32(1), object(3), string(1)\n",
      "memory usage: 2.1+ MB\n"
     ]
    }
   ],
   "source": [
    "AS_df.info()"
   ]
  },
  {
   "cell_type": "code",
   "execution_count": 14,
   "id": "b66ecaf0",
   "metadata": {},
   "outputs": [
    {
     "data": {
      "text/plain": [
       "ASN        False\n",
       "Country    False\n",
       "Name       False\n",
       "NumIPs     False\n",
       "type       False\n",
       "dtype: bool"
      ]
     },
     "execution_count": 14,
     "metadata": {},
     "output_type": "execute_result"
    }
   ],
   "source": [
    "AS_df.isnull().any() #find if there are any null data"
   ]
  },
  {
   "cell_type": "markdown",
   "id": "0ae6c62c",
   "metadata": {},
   "source": [
    "There are no null data for this AS dataset"
   ]
  },
  {
   "cell_type": "markdown",
   "id": "125fdbb3",
   "metadata": {},
   "source": [
    "## Probe Data"
   ]
  },
  {
   "cell_type": "code",
   "execution_count": 15,
   "id": "6acec086",
   "metadata": {},
   "outputs": [],
   "source": [
    "# Open the file in binary mode\n",
    "with open('probe_dataset.pkl', 'rb') as file:\n",
    "\t\n",
    "\t# Call load method to deserialze\n",
    "\tprobe_df = pickle.load(file)"
   ]
  },
  {
   "cell_type": "code",
   "execution_count": 16,
   "id": "e5c9411d",
   "metadata": {},
   "outputs": [
    {
     "data": {
      "text/plain": [
       "(11008, 2)"
      ]
     },
     "execution_count": 16,
     "metadata": {},
     "output_type": "execute_result"
    }
   ],
   "source": [
    "probe_df.shape #identify row and column of the Probe Data. There are 2 columns and 11008 rows."
   ]
  },
  {
   "cell_type": "code",
   "execution_count": 17,
   "id": "6c513a98",
   "metadata": {},
   "outputs": [
    {
     "data": {
      "text/html": [
       "<div>\n",
       "<style scoped>\n",
       "    .dataframe tbody tr th:only-of-type {\n",
       "        vertical-align: middle;\n",
       "    }\n",
       "\n",
       "    .dataframe tbody tr th {\n",
       "        vertical-align: top;\n",
       "    }\n",
       "\n",
       "    .dataframe thead th {\n",
       "        text-align: right;\n",
       "    }\n",
       "</style>\n",
       "<table border=\"1\" class=\"dataframe\">\n",
       "  <thead>\n",
       "    <tr style=\"text-align: right;\">\n",
       "      <th></th>\n",
       "      <th>prb_id</th>\n",
       "      <th>ASN</th>\n",
       "    </tr>\n",
       "  </thead>\n",
       "  <tbody>\n",
       "    <tr>\n",
       "      <th>0</th>\n",
       "      <td>1</td>\n",
       "      <td>AS3265</td>\n",
       "    </tr>\n",
       "    <tr>\n",
       "      <th>1</th>\n",
       "      <td>2</td>\n",
       "      <td>AS1136</td>\n",
       "    </tr>\n",
       "    <tr>\n",
       "      <th>2</th>\n",
       "      <td>3</td>\n",
       "      <td>AS3265</td>\n",
       "    </tr>\n",
       "    <tr>\n",
       "      <th>3</th>\n",
       "      <td>6</td>\n",
       "      <td>AS6830</td>\n",
       "    </tr>\n",
       "    <tr>\n",
       "      <th>4</th>\n",
       "      <td>8</td>\n",
       "      <td>AS3265</td>\n",
       "    </tr>\n",
       "    <tr>\n",
       "      <th>5</th>\n",
       "      <td>11</td>\n",
       "      <td>AS12333</td>\n",
       "    </tr>\n",
       "    <tr>\n",
       "      <th>6</th>\n",
       "      <td>14</td>\n",
       "      <td>AS3269</td>\n",
       "    </tr>\n",
       "    <tr>\n",
       "      <th>7</th>\n",
       "      <td>20</td>\n",
       "      <td>AS3265</td>\n",
       "    </tr>\n",
       "    <tr>\n",
       "      <th>8</th>\n",
       "      <td>24</td>\n",
       "      <td>AS7922</td>\n",
       "    </tr>\n",
       "    <tr>\n",
       "      <th>9</th>\n",
       "      <td>26</td>\n",
       "      <td>AS3265</td>\n",
       "    </tr>\n",
       "  </tbody>\n",
       "</table>\n",
       "</div>"
      ],
      "text/plain": [
       "  prb_id      ASN\n",
       "0      1   AS3265\n",
       "1      2   AS1136\n",
       "2      3   AS3265\n",
       "3      6   AS6830\n",
       "4      8   AS3265\n",
       "5     11  AS12333\n",
       "6     14   AS3269\n",
       "7     20   AS3265\n",
       "8     24   AS7922\n",
       "9     26   AS3265"
      ]
     },
     "execution_count": 17,
     "metadata": {},
     "output_type": "execute_result"
    }
   ],
   "source": [
    "probe_df.head(10) #show first 10 data of Probe Data"
   ]
  },
  {
   "cell_type": "markdown",
   "id": "2827d129",
   "metadata": {},
   "source": [
    "### Probe Data Column Description\n",
    "\n",
    "- prb_id : probe id. The probe id of the probe data is correspond to ASN. A probe is located in ASN which ASN contains information of the localization and the type.\n",
    "- ASN : autonomus system number"
   ]
  },
  {
   "cell_type": "code",
   "execution_count": 18,
   "id": "19e9dbf2",
   "metadata": {},
   "outputs": [],
   "source": [
    "probe_df = probe_df.astype(dtype={'ASN': 'string'})\n",
    "probe_df = probe_df.astype(dtype={'prb_id': 'int'})\n",
    "#convert the ASN and prb_id data type to string and integer"
   ]
  },
  {
   "cell_type": "code",
   "execution_count": 19,
   "id": "c64cadd0",
   "metadata": {},
   "outputs": [
    {
     "name": "stdout",
     "output_type": "stream",
     "text": [
      "<class 'pandas.core.frame.DataFrame'>\n",
      "RangeIndex: 11008 entries, 0 to 11007\n",
      "Data columns (total 2 columns):\n",
      " #   Column  Non-Null Count  Dtype \n",
      "---  ------  --------------  ----- \n",
      " 0   prb_id  11008 non-null  int32 \n",
      " 1   ASN     11008 non-null  string\n",
      "dtypes: int32(1), string(1)\n",
      "memory usage: 129.1 KB\n"
     ]
    }
   ],
   "source": [
    "probe_df.info() #the datatype of prb_id and ASN is changed."
   ]
  },
  {
   "cell_type": "code",
   "execution_count": 20,
   "id": "524c327c",
   "metadata": {},
   "outputs": [
    {
     "data": {
      "text/html": [
       "<div>\n",
       "<style scoped>\n",
       "    .dataframe tbody tr th:only-of-type {\n",
       "        vertical-align: middle;\n",
       "    }\n",
       "\n",
       "    .dataframe tbody tr th {\n",
       "        vertical-align: top;\n",
       "    }\n",
       "\n",
       "    .dataframe thead th {\n",
       "        text-align: right;\n",
       "    }\n",
       "</style>\n",
       "<table border=\"1\" class=\"dataframe\">\n",
       "  <thead>\n",
       "    <tr style=\"text-align: right;\">\n",
       "      <th></th>\n",
       "      <th>prb_id</th>\n",
       "    </tr>\n",
       "  </thead>\n",
       "  <tbody>\n",
       "    <tr>\n",
       "      <th>count</th>\n",
       "      <td>1.100800e+04</td>\n",
       "    </tr>\n",
       "    <tr>\n",
       "      <th>mean</th>\n",
       "      <td>4.017255e+04</td>\n",
       "    </tr>\n",
       "    <tr>\n",
       "      <th>std</th>\n",
       "      <td>1.210076e+05</td>\n",
       "    </tr>\n",
       "    <tr>\n",
       "      <th>min</th>\n",
       "      <td>1.000000e+00</td>\n",
       "    </tr>\n",
       "    <tr>\n",
       "      <th>25%</th>\n",
       "      <td>1.233175e+04</td>\n",
       "    </tr>\n",
       "    <tr>\n",
       "      <th>50%</th>\n",
       "      <td>2.318700e+04</td>\n",
       "    </tr>\n",
       "    <tr>\n",
       "      <th>75%</th>\n",
       "      <td>3.387425e+04</td>\n",
       "    </tr>\n",
       "    <tr>\n",
       "      <th>max</th>\n",
       "      <td>1.000246e+06</td>\n",
       "    </tr>\n",
       "  </tbody>\n",
       "</table>\n",
       "</div>"
      ],
      "text/plain": [
       "             prb_id\n",
       "count  1.100800e+04\n",
       "mean   4.017255e+04\n",
       "std    1.210076e+05\n",
       "min    1.000000e+00\n",
       "25%    1.233175e+04\n",
       "50%    2.318700e+04\n",
       "75%    3.387425e+04\n",
       "max    1.000246e+06"
      ]
     },
     "execution_count": 20,
     "metadata": {},
     "output_type": "execute_result"
    }
   ],
   "source": [
    "probe_df.describe() #describe the prb_id dataset"
   ]
  },
  {
   "cell_type": "markdown",
   "id": "e2ff1f7b",
   "metadata": {},
   "source": [
    "Unpickling: It is the inverse of Pickling process where a byte stream is converted into an object hierarchy. Therefore, the IP numbers is in integer. (?)"
   ]
  },
  {
   "cell_type": "markdown",
   "id": "d2828143",
   "metadata": {},
   "source": [
    "## RIPE Data (for one hour)"
   ]
  },
  {
   "cell_type": "code",
   "execution_count": 21,
   "id": "94131f85",
   "metadata": {},
   "outputs": [],
   "source": [
    "import os\n",
    "import bz2\n",
    "import time\n",
    "import json\n",
    "import glob\n",
    "pd.set_option('display.max_columns', None)"
   ]
  },
  {
   "cell_type": "code",
   "execution_count": 22,
   "id": "71e58d67",
   "metadata": {},
   "outputs": [],
   "source": [
    "#temp = pd.DataFrame()\n",
    "\n",
    "#path_to_json ='https://data-store.ripe.net/datasets/atlas-daily-dumps/2022-03-01/ping-2022-03-01T0000' \n",
    "\n",
    "#json_pattern = os.path.join(path_to_json,'*.bz2')\n",
    "#file_list = glob.glob(json_pattern)\n",
    "\n",
    "#for file in file_list:\n",
    "#    chunks = pd.read_json(file, lines=True, chunksize=1000)\n",
    "#    i = 0\n",
    "#    chunk_list = []\n",
    "#    for chunk in chunks:\n",
    "#        if i >= 10:\n",
    "#            break\n",
    "#        i += 1\n",
    "#        chunk_list.append(chunk)\n",
    "#        df = pd.concat(chunk_list, sort = True)\n",
    "#    temp = temp.append(df, sort = True)\n",
    "#temp"
   ]
  },
  {
   "cell_type": "code",
   "execution_count": 23,
   "id": "711a1204",
   "metadata": {},
   "outputs": [
    {
     "name": "stdout",
     "output_type": "stream",
     "text": [
      "{'fw': 5040, 'mver': '2.4.1', 'lts': 6, 'dst_name': '156.154.79.254', 'af': 4, 'dst_addr': '156.154.79.254', 'src_addr': '185.144.238.12', 'proto': 'ICMP', 'ttl': 56, 'size': 64, 'result': [{'rtt': 27.987967}, {'rtt': 28.039935}, {'rtt': 28.146594}], 'dup': 0, 'rcvd': 3, 'sent': 3, 'min': 27.987967, 'max': 28.146594, 'avg': 28.0581653333, 'msm_id': 29692049, 'prb_id': 26262, 'timestamp': 1646093125, 'msm_name': 'Ping', 'from': '185.144.238.12', 'type': 'ping', 'group_id': 29692048, 'step': 240}\n",
      "{'fw': 5040, 'mver': '2.4.1', 'lts': 10, 'dst_name': '2001:620:410:ffad::2', 'af': 6, 'dst_addr': '2001:620:410:ffad::2', 'src_addr': '2a07:4400:0:1001:eade:27ff:fec9:67a4', 'proto': 'ICMP', 'ttl': 54, 'size': 64, 'result': [{'rtt': 11.337037}, {'rtt': 11.336182}, {'rtt': 11.19329}], 'dup': 0, 'rcvd': 3, 'sent': 3, 'min': 11.19329, 'max': 11.337037, 'avg': 11.2888363333, 'msm_id': 19215818, 'prb_id': 26262, 'timestamp': 1646093129, 'msm_name': 'Ping', 'from': '2a07:4400:0:1001:eade:27ff:fec9:67a4', 'type': 'ping', 'group_id': 19215817, 'step': 240}\n",
      "{'fw': 5040, 'mver': '2.4.1', 'lts': 16, 'dst_name': '2a02:218:2:232::55', 'af': 6, 'dst_addr': '2a02:218:2:232::55', 'src_addr': '2a07:4400:0:1001:eade:27ff:fec9:67a4', 'proto': 'ICMP', 'ttl': 57, 'size': 64, 'result': [{'rtt': 7.520951}, {'rtt': 7.402691}, {'rtt': 7.360415}], 'dup': 0, 'rcvd': 3, 'sent': 3, 'min': 7.360415, 'max': 7.520951, 'avg': 7.428019, 'msm_id': 25229334, 'prb_id': 26262, 'timestamp': 1646093156, 'msm_name': 'Ping', 'from': '2a07:4400:0:1001:eade:27ff:fec9:67a4', 'type': 'ping', 'group_id': 25229333, 'step': 240}\n",
      "{'fw': 5040, 'mver': '2.4.1', 'lts': 32, 'dst_name': '2a04:d140:1::3', 'af': 6, 'dst_addr': '2a04:d140:1::3', 'src_addr': '2a07:4400:0:1001:eade:27ff:fec9:67a4', 'proto': 'ICMP', 'ttl': 56, 'size': 64, 'result': [{'rtt': 7.328325}, {'rtt': 7.39352}, {'rtt': 7.35056}], 'dup': 0, 'rcvd': 3, 'sent': 3, 'min': 7.328325, 'max': 7.39352, 'avg': 7.3574683333, 'msm_id': 25911107, 'prb_id': 26262, 'timestamp': 1646093172, 'msm_name': 'Ping', 'from': '2a07:4400:0:1001:eade:27ff:fec9:67a4', 'type': 'ping', 'group_id': 25911106, 'step': 240}\n",
      "{'fw': 5040, 'mver': '2.4.1', 'lts': 81, 'dst_name': '193.0.14.129', 'af': 4, 'dst_addr': '193.0.14.129', 'src_addr': '185.144.238.12', 'proto': 'ICMP', 'ttl': 58, 'size': 20, 'result': [{'rtt': 4.0058}, {'rtt': 3.954355}, {'rtt': 3.933306}], 'dup': 0, 'rcvd': 3, 'sent': 3, 'min': 3.933306, 'max': 4.0058, 'avg': 3.964487, 'msm_id': 1001, 'prb_id': 26262, 'timestamp': 1646093221, 'msm_name': 'Ping', 'from': '185.144.238.12', 'type': 'ping', 'step': 240}\n",
      "{'fw': 5040, 'mver': '2.4.1', 'lts': 23, 'dst_name': '194.187.172.112', 'af': 4, 'dst_addr': '194.187.172.112', 'src_addr': '192.168.0.2', 'proto': 'ICMP', 'ttl': 50, 'size': 64, 'result': [{'rtt': 255.958227}, {'rtt': 256.590802}, {'rtt': 249.474798}], 'dup': 0, 'rcvd': 3, 'sent': 3, 'min': 249.474798, 'max': 256.590802, 'avg': 254.0079423333, 'msm_id': 18393776, 'prb_id': 18357, 'timestamp': 1646093187, 'msm_name': 'Ping', 'from': '190.163.117.127', 'type': 'ping', 'group_id': 18393775, 'step': 240}\n",
      "{'fw': 5040, 'mver': '2.4.1', 'lts': 42, 'dst_name': '216.171.184.239', 'af': 4, 'dst_addr': '216.171.184.239', 'src_addr': '192.168.0.2', 'proto': 'ICMP', 'ttl': 54, 'size': 64, 'result': [{'rtt': 164.507281}, {'rtt': 163.118653}, {'rtt': 161.726226}], 'dup': 0, 'rcvd': 3, 'sent': 3, 'min': 161.726226, 'max': 164.507281, 'avg': 163.1173866667, 'msm_id': 34757162, 'prb_id': 18357, 'timestamp': 1646093206, 'msm_name': 'Ping', 'from': '190.163.117.127', 'type': 'ping', 'group_id': 34757161, 'step': 240}\n",
      "{'fw': 5040, 'mver': '2.4.1', 'lts': 107, 'dst_name': '2602:fc05::9', 'af': 6, 'dst_addr': '2602:fc05::9', 'src_addr': '2800:150:100:20b9:c24a:ff:fecc:91e8', 'proto': 'ICMP', 'ttl': 52, 'size': 64, 'result': [{'rtt': 159.78868}, {'rtt': 161.896875}, {'rtt': 157.40863}], 'dup': 0, 'rcvd': 3, 'sent': 3, 'min': 157.40863, 'max': 161.896875, 'avg': 159.6980616667, 'msm_id': 35052428, 'prb_id': 18357, 'timestamp': 1646093271, 'msm_name': 'Ping', 'from': '2800:150:100:20b9:c24a:ff:fecc:91e8', 'type': 'ping', 'group_id': 35052426, 'step': 240}\n",
      "{'fw': 5040, 'mver': '2.4.1', 'lts': 112, 'dst_name': '213.182.2.254', 'af': 4, 'dst_addr': '213.182.2.254', 'src_addr': '192.168.0.2', 'proto': 'ICMP', 'ttl': 50, 'size': 64, 'result': [{'rtt': 240.474212}, {'rtt': 241.023144}, {'rtt': 245.927385}], 'dup': 0, 'rcvd': 3, 'sent': 3, 'min': 240.474212, 'max': 245.927385, 'avg': 242.4749136667, 'msm_id': 34680548, 'prb_id': 18357, 'timestamp': 1646093276, 'msm_name': 'Ping', 'from': '190.163.117.127', 'type': 'ping', 'group_id': 34680547, 'step': 240}\n",
      "{'fw': 5040, 'mver': '2.4.1', 'lts': 102, 'dst_name': '213.133.109.134', 'af': 4, 'dst_addr': '213.133.109.134', 'src_addr': '10.133.7.100', 'proto': 'ICMP', 'ttl': 48, 'size': 32, 'result': [{'rtt': 115.672625}, {'rtt': 115.421542}, {'rtt': 115.402291}], 'dup': 0, 'rcvd': 3, 'sent': 3, 'min': 115.402291, 'max': 115.672625, 'avg': 115.4988193333, 'msm_id': 1019, 'prb_id': 54182, 'timestamp': 1646093273, 'msm_name': 'Ping', 'from': '38.142.99.10', 'type': 'ping', 'step': 240}\n",
      "{'fw': 4790, 'lts': 41, 'dst_name': '199.9.14.201', 'af': 4, 'dst_addr': '199.9.14.201', 'src_addr': '192.168.21.101', 'proto': 'ICMP', 'ttl': 56, 'size': 20, 'result': [{'rtt': 41.258504}, {'rtt': 41.164809}, {'rtt': 41.125641}], 'dup': 0, 'rcvd': 3, 'sent': 3, 'min': 41.125641, 'max': 41.258504, 'avg': 41.1829846667, 'msm_id': 1010, 'prb_id': 4861, 'timestamp': 1646093211, 'msm_name': 'Ping', 'from': '188.163.120.63', 'type': 'ping', 'step': 240}\n",
      "\n",
      "bz2 file:\n",
      "Loading 100k lines took: 0.01 seconds\n",
      "Estimated loading time of entire bz2 file: 0 seconds\n"
     ]
    }
   ],
   "source": [
    "bz2Filename = 'ping-2022-03-01T0000.bz2'\n",
    "bz2File     = bz2.open(bz2Filename, 'rt') \n",
    "\n",
    "# List of tuples\n",
    "# https://stackoverflow.com/questions/28056171/how-to-build-and-fill-pandas-dataframe-from-for-loop\n",
    "tuple_list = []\n",
    "#read first 10 lines to estimate total loading time\n",
    "totalNrOfLines = 0;\n",
    "filteredNrOfLines = 0\n",
    "\n",
    "st  = time.time()\n",
    "for line in bz2File:\n",
    "    #print(line)\n",
    "    decoded_line = json.loads(line)\n",
    "    if(decoded_line[\"af\"] == 4):\n",
    "        filteredNrOfLines += 1\n",
    "        tuple_list.append((decoded_line[\"dst_addr\"],decoded_line[\"prb_id\"],decoded_line[\"avg\"]))\n",
    "    print(decoded_line)\n",
    "    totalNrOfLines += 1\n",
    "    if totalNrOfLines>10: break\n",
    "\n",
    "#print time and estimate total time            \n",
    "dur         = round(time.time() - st,2)\n",
    "estTotTime  = round( (dur/100000)*totalNrOfLines )\n",
    "print(\"\\nbz2 file:\" )\n",
    "print(\"Loading 100k lines took: \"  + str(dur) + \" seconds\")\n",
    "print(\"Estimated loading time of entire bz2 file: \"  + str(estTotTime) + \\\n",
    "      \" seconds\" )\n",
    "\n",
    "#finally close bz2File\n",
    "bz2File.close()"
   ]
  },
  {
   "cell_type": "markdown",
   "id": "584e6f13",
   "metadata": {},
   "source": [
    "The differences of dst_name and dst_address:\n",
    "Dst_address: IP address of the destination (string)\n",
    "Dst_name: name of the destination (string), could be the same as dst_address if it is not hosted yet, but the dst_name usually utilized as example: google.com, facebook.comw which actually represent the IP address."
   ]
  },
  {
   "cell_type": "code",
   "execution_count": 24,
   "id": "77f18128",
   "metadata": {},
   "outputs": [],
   "source": [
    "#bz2Filename = 'ping-2022-03-01T0000.bz2'\n",
    "#bz2File     = bz2.open(bz2Filename, 'rt')\n",
    "\n",
    "#read first 10 lines to estimate total loading time\n",
    "#count = 0;\n",
    "#st    = time.time()\n",
    "#for line in bz2File:\n",
    "#   print(line)\n",
    "#    decoded_line = json.loads(line)\n",
    "#    print(decoded_line)\n",
    "#    count = count + 1\n",
    "#    if count>10: break\n",
    "\n",
    "#print time and estimate total time            \n",
    "#dur         = round(time.time() - st,2)\n",
    "#estTotTime  = round( (dur/100000)*nrOfLines )\n",
    "#print(\"\\nbz2 file:\" )\n",
    "#print(\"Loading 100k lines took: \"  + str(dur) + \" seconds\")\n",
    "#print(\"Estimated loading time of entire bz2 file: \"  + str(estTotTime) + \\\n",
    "#      \" seconds\" )\n",
    "\n",
    "#finally close bz2File\n",
    "#bz2File.close()"
   ]
  },
  {
   "cell_type": "markdown",
   "id": "c138a4da",
   "metadata": {},
   "source": [
    "### IPv4 data\n",
    "\n",
    "This site or product includes IP2Location LITE data available from <a href=\"https://lite.ip2location.com\">https://lite.ip2location.com</a>."
   ]
  },
  {
   "cell_type": "markdown",
   "id": "96d518c5",
   "metadata": {},
   "source": [
    "List of EU countries (see reference):\n",
    "https://european-union.europa.eu/principles-countries-history/country-profiles_en?page=1"
   ]
  },
  {
   "cell_type": "code",
   "execution_count": 25,
   "id": "1606aa36",
   "metadata": {},
   "outputs": [],
   "source": [
    "ipv4_df = pd.read_csv(\"IP2LOCATION-LITE-DB1.CSV\")"
   ]
  },
  {
   "cell_type": "code",
   "execution_count": 26,
   "id": "31d08a50",
   "metadata": {},
   "outputs": [
    {
     "data": {
      "text/plain": [
       "(212146, 4)"
      ]
     },
     "execution_count": 26,
     "metadata": {},
     "output_type": "execute_result"
    }
   ],
   "source": [
    "ipv4_df.shape #identify total rows and columns in IPv4 data"
   ]
  },
  {
   "cell_type": "code",
   "execution_count": 27,
   "id": "3445b500",
   "metadata": {},
   "outputs": [
    {
     "data": {
      "text/html": [
       "<div>\n",
       "<style scoped>\n",
       "    .dataframe tbody tr th:only-of-type {\n",
       "        vertical-align: middle;\n",
       "    }\n",
       "\n",
       "    .dataframe tbody tr th {\n",
       "        vertical-align: top;\n",
       "    }\n",
       "\n",
       "    .dataframe thead th {\n",
       "        text-align: right;\n",
       "    }\n",
       "</style>\n",
       "<table border=\"1\" class=\"dataframe\">\n",
       "  <thead>\n",
       "    <tr style=\"text-align: right;\">\n",
       "      <th></th>\n",
       "      <th>0</th>\n",
       "      <th>16777215</th>\n",
       "      <th>-</th>\n",
       "      <th>-.1</th>\n",
       "    </tr>\n",
       "  </thead>\n",
       "  <tbody>\n",
       "    <tr>\n",
       "      <th>0</th>\n",
       "      <td>16777216</td>\n",
       "      <td>16777471</td>\n",
       "      <td>US</td>\n",
       "      <td>United States of America</td>\n",
       "    </tr>\n",
       "    <tr>\n",
       "      <th>1</th>\n",
       "      <td>16777472</td>\n",
       "      <td>16778239</td>\n",
       "      <td>CN</td>\n",
       "      <td>China</td>\n",
       "    </tr>\n",
       "    <tr>\n",
       "      <th>2</th>\n",
       "      <td>16778240</td>\n",
       "      <td>16779263</td>\n",
       "      <td>AU</td>\n",
       "      <td>Australia</td>\n",
       "    </tr>\n",
       "    <tr>\n",
       "      <th>3</th>\n",
       "      <td>16779264</td>\n",
       "      <td>16781311</td>\n",
       "      <td>CN</td>\n",
       "      <td>China</td>\n",
       "    </tr>\n",
       "    <tr>\n",
       "      <th>4</th>\n",
       "      <td>16781312</td>\n",
       "      <td>16785407</td>\n",
       "      <td>JP</td>\n",
       "      <td>Japan</td>\n",
       "    </tr>\n",
       "  </tbody>\n",
       "</table>\n",
       "</div>"
      ],
      "text/plain": [
       "          0  16777215   -                       -.1\n",
       "0  16777216  16777471  US  United States of America\n",
       "1  16777472  16778239  CN                     China\n",
       "2  16778240  16779263  AU                 Australia\n",
       "3  16779264  16781311  CN                     China\n",
       "4  16781312  16785407  JP                     Japan"
      ]
     },
     "execution_count": 27,
     "metadata": {},
     "output_type": "execute_result"
    }
   ],
   "source": [
    "ipv4_df.head() #display first 5 data of ipv4 data"
   ]
  },
  {
   "cell_type": "code",
   "execution_count": 28,
   "id": "a3499b5f",
   "metadata": {},
   "outputs": [],
   "source": [
    "ipv4_df.rename(columns = {'0':'ip_from', '16777215':'ip_to',\n",
    "                              '-':'country_code','-.1':'country_name'}, inplace = True) #add column name"
   ]
  },
  {
   "cell_type": "code",
   "execution_count": 29,
   "id": "e8f1173f",
   "metadata": {},
   "outputs": [
    {
     "data": {
      "text/html": [
       "<div>\n",
       "<style scoped>\n",
       "    .dataframe tbody tr th:only-of-type {\n",
       "        vertical-align: middle;\n",
       "    }\n",
       "\n",
       "    .dataframe tbody tr th {\n",
       "        vertical-align: top;\n",
       "    }\n",
       "\n",
       "    .dataframe thead th {\n",
       "        text-align: right;\n",
       "    }\n",
       "</style>\n",
       "<table border=\"1\" class=\"dataframe\">\n",
       "  <thead>\n",
       "    <tr style=\"text-align: right;\">\n",
       "      <th></th>\n",
       "      <th>ip_from</th>\n",
       "      <th>ip_to</th>\n",
       "      <th>country_code</th>\n",
       "      <th>country_name</th>\n",
       "    </tr>\n",
       "  </thead>\n",
       "  <tbody>\n",
       "    <tr>\n",
       "      <th>0</th>\n",
       "      <td>16777216</td>\n",
       "      <td>16777471</td>\n",
       "      <td>US</td>\n",
       "      <td>United States of America</td>\n",
       "    </tr>\n",
       "    <tr>\n",
       "      <th>1</th>\n",
       "      <td>16777472</td>\n",
       "      <td>16778239</td>\n",
       "      <td>CN</td>\n",
       "      <td>China</td>\n",
       "    </tr>\n",
       "    <tr>\n",
       "      <th>2</th>\n",
       "      <td>16778240</td>\n",
       "      <td>16779263</td>\n",
       "      <td>AU</td>\n",
       "      <td>Australia</td>\n",
       "    </tr>\n",
       "    <tr>\n",
       "      <th>3</th>\n",
       "      <td>16779264</td>\n",
       "      <td>16781311</td>\n",
       "      <td>CN</td>\n",
       "      <td>China</td>\n",
       "    </tr>\n",
       "    <tr>\n",
       "      <th>4</th>\n",
       "      <td>16781312</td>\n",
       "      <td>16785407</td>\n",
       "      <td>JP</td>\n",
       "      <td>Japan</td>\n",
       "    </tr>\n",
       "  </tbody>\n",
       "</table>\n",
       "</div>"
      ],
      "text/plain": [
       "    ip_from     ip_to country_code              country_name\n",
       "0  16777216  16777471           US  United States of America\n",
       "1  16777472  16778239           CN                     China\n",
       "2  16778240  16779263           AU                 Australia\n",
       "3  16779264  16781311           CN                     China\n",
       "4  16781312  16785407           JP                     Japan"
      ]
     },
     "execution_count": 29,
     "metadata": {},
     "output_type": "execute_result"
    }
   ],
   "source": [
    "ipv4_df.head() #display data with column name"
   ]
  },
  {
   "cell_type": "markdown",
   "id": "d314269c",
   "metadata": {},
   "source": [
    "### IPv4 Data Column Description\n",
    "\n",
    "- ip_from: lowest range of the IP in the country\n",
    "- ip_to: highest range of the IP in the country\n",
    "- country_code: code of country with range of IP's\n",
    "- country_name: name of country with range of IP's"
   ]
  },
  {
   "cell_type": "code",
   "execution_count": 30,
   "id": "92442dfc",
   "metadata": {},
   "outputs": [
    {
     "name": "stdout",
     "output_type": "stream",
     "text": [
      "<class 'pandas.core.frame.DataFrame'>\n",
      "RangeIndex: 212146 entries, 0 to 212145\n",
      "Data columns (total 4 columns):\n",
      " #   Column        Non-Null Count   Dtype \n",
      "---  ------        --------------   ----- \n",
      " 0   ip_from       212146 non-null  int64 \n",
      " 1   ip_to         212146 non-null  int64 \n",
      " 2   country_code  212089 non-null  object\n",
      " 3   country_name  212146 non-null  object\n",
      "dtypes: int64(2), object(2)\n",
      "memory usage: 6.5+ MB\n"
     ]
    }
   ],
   "source": [
    "ipv4_df.info() #collect information of the dataset"
   ]
  },
  {
   "cell_type": "markdown",
   "id": "8ac00135",
   "metadata": {},
   "source": [
    "### Task B\n",
    "Evaluate the number m of AS’s that can be used for hosting in the EU\n",
    "and have probes in the RIPE data set."
   ]
  },
  {
   "cell_type": "code",
   "execution_count": 31,
   "id": "b2cd2c58",
   "metadata": {},
   "outputs": [],
   "source": [
    "#merge the AS dataset and Probe data\n",
    "AS_pb_joined = probe_df.merge(AS_df, left_on='ASN', right_on='ASN', how='inner')\n",
    "AS_pb_joined = AS_pb_joined.replace(np.nan,'', regex=True) "
   ]
  },
  {
   "cell_type": "code",
   "execution_count": 32,
   "id": "adf08035",
   "metadata": {
    "scrolled": true
   },
   "outputs": [
    {
     "data": {
      "text/html": [
       "<div>\n",
       "<style scoped>\n",
       "    .dataframe tbody tr th:only-of-type {\n",
       "        vertical-align: middle;\n",
       "    }\n",
       "\n",
       "    .dataframe tbody tr th {\n",
       "        vertical-align: top;\n",
       "    }\n",
       "\n",
       "    .dataframe thead th {\n",
       "        text-align: right;\n",
       "    }\n",
       "</style>\n",
       "<table border=\"1\" class=\"dataframe\">\n",
       "  <thead>\n",
       "    <tr style=\"text-align: right;\">\n",
       "      <th></th>\n",
       "      <th>prb_id</th>\n",
       "      <th>ASN</th>\n",
       "      <th>Country</th>\n",
       "      <th>Name</th>\n",
       "      <th>NumIPs</th>\n",
       "      <th>type</th>\n",
       "    </tr>\n",
       "  </thead>\n",
       "  <tbody>\n",
       "    <tr>\n",
       "      <th>10700</th>\n",
       "      <td>1000216</td>\n",
       "      <td>AS41620</td>\n",
       "      <td>IR</td>\n",
       "      <td>Iran University Of Science and Technology</td>\n",
       "      <td>4096</td>\n",
       "      <td>business</td>\n",
       "    </tr>\n",
       "    <tr>\n",
       "      <th>10701</th>\n",
       "      <td>1000222</td>\n",
       "      <td>AS60610</td>\n",
       "      <td>GB</td>\n",
       "      <td>Amito Ltd</td>\n",
       "      <td>9984</td>\n",
       "      <td>hosting</td>\n",
       "    </tr>\n",
       "    <tr>\n",
       "      <th>10702</th>\n",
       "      <td>1000226</td>\n",
       "      <td>AS61098</td>\n",
       "      <td>CH</td>\n",
       "      <td>Akenes SA</td>\n",
       "      <td>22528</td>\n",
       "      <td>business</td>\n",
       "    </tr>\n",
       "    <tr>\n",
       "      <th>10703</th>\n",
       "      <td>1000237</td>\n",
       "      <td>AS7489</td>\n",
       "      <td>US</td>\n",
       "      <td>HostUS</td>\n",
       "      <td>59392</td>\n",
       "      <td>education</td>\n",
       "    </tr>\n",
       "    <tr>\n",
       "      <th>10704</th>\n",
       "      <td>1000242</td>\n",
       "      <td>AS49432</td>\n",
       "      <td>AT</td>\n",
       "      <td>Dominic Schallert trading as schallert.com e.U.</td>\n",
       "      <td>1024</td>\n",
       "      <td>business</td>\n",
       "    </tr>\n",
       "  </tbody>\n",
       "</table>\n",
       "</div>"
      ],
      "text/plain": [
       "        prb_id      ASN Country  \\\n",
       "10700  1000216  AS41620      IR   \n",
       "10701  1000222  AS60610      GB   \n",
       "10702  1000226  AS61098      CH   \n",
       "10703  1000237   AS7489      US   \n",
       "10704  1000242  AS49432      AT   \n",
       "\n",
       "                                                  Name  NumIPs       type  \n",
       "10700        Iran University Of Science and Technology    4096   business  \n",
       "10701                                        Amito Ltd    9984    hosting  \n",
       "10702                                        Akenes SA   22528   business  \n",
       "10703                                           HostUS   59392  education  \n",
       "10704  Dominic Schallert trading as schallert.com e.U.    1024   business  "
      ]
     },
     "execution_count": 32,
     "metadata": {},
     "output_type": "execute_result"
    }
   ],
   "source": [
    "AS_pb_joined.tail() #show last 5 of the merged dataset"
   ]
  },
  {
   "cell_type": "code",
   "execution_count": 33,
   "id": "36e5cd66",
   "metadata": {},
   "outputs": [
    {
     "name": "stdout",
     "output_type": "stream",
     "text": [
      "<class 'pandas.core.frame.DataFrame'>\n",
      "Int64Index: 10705 entries, 0 to 10704\n",
      "Data columns (total 6 columns):\n",
      " #   Column   Non-Null Count  Dtype \n",
      "---  ------   --------------  ----- \n",
      " 0   prb_id   10705 non-null  int32 \n",
      " 1   ASN      10705 non-null  string\n",
      " 2   Country  10705 non-null  object\n",
      " 3   Name     10705 non-null  object\n",
      " 4   NumIPs   10705 non-null  int32 \n",
      " 5   type     10705 non-null  object\n",
      "dtypes: int32(2), object(3), string(1)\n",
      "memory usage: 501.8+ KB\n"
     ]
    }
   ],
   "source": [
    "AS_pb_joined.info() #identify the datatype of the merged dataset"
   ]
  },
  {
   "cell_type": "code",
   "execution_count": 34,
   "id": "4fb187c7",
   "metadata": {},
   "outputs": [
    {
     "name": "stdout",
     "output_type": "stream",
     "text": [
      "       prb_id      ASN Country               Name   NumIPs      type\n",
      "6452  1000246  AS14061      US  DigitalOcean, LLC  2163200  business\n"
     ]
    }
   ],
   "source": [
    "print(AS_pb_joined[AS_pb_joined.prb_id == AS_pb_joined.prb_id.max()]) #identify max value of the prb_id"
   ]
  },
  {
   "cell_type": "code",
   "execution_count": 35,
   "id": "6489e040",
   "metadata": {},
   "outputs": [
    {
     "name": "stdout",
     "output_type": "stream",
     "text": [
      "['AT', 'BE', 'BG', 'HR', 'CY', 'CZ', 'DK', 'EE', 'FI', 'FR', 'DE', 'GR', 'HU', 'IE', 'IT', 'LV', 'LT', 'LU', 'MT', 'NL', 'PL', 'PT', 'RO', 'SK', 'SI', 'ES', 'SE']\n"
     ]
    }
   ],
   "source": [
    "#add new column for determining EU or non-EU\n",
    "# read text file\n",
    "my_file = open(\"EU_country.txt\", \"r\")\n",
    "  \n",
    "# reading the file\n",
    "data = my_file.read()\n",
    "  \n",
    "# replacing end splitting the text \n",
    "# when newline ('\\n') is seen.\n",
    "EU_country_list = data.split(\"\\n\")\n",
    "print(EU_country_list)\n",
    "my_file.close()"
   ]
  },
  {
   "cell_type": "code",
   "execution_count": 36,
   "id": "78679dde",
   "metadata": {},
   "outputs": [],
   "source": [
    "#filter hosting type of AS_pb_joined\n",
    "AS_pb_joined = AS_pb_joined[AS_pb_joined['type'] == 'hosting']"
   ]
  },
  {
   "cell_type": "code",
   "execution_count": 37,
   "id": "b3e2a830",
   "metadata": {},
   "outputs": [],
   "source": [
    "#filter the AS_pb_joined only to EU country\n",
    "EU_AS_pb_joined = AS_pb_joined[AS_pb_joined.Country.isin(EU_country_list)]"
   ]
  },
  {
   "cell_type": "code",
   "execution_count": 38,
   "id": "5ef60760",
   "metadata": {},
   "outputs": [
    {
     "data": {
      "text/html": [
       "<div>\n",
       "<style scoped>\n",
       "    .dataframe tbody tr th:only-of-type {\n",
       "        vertical-align: middle;\n",
       "    }\n",
       "\n",
       "    .dataframe tbody tr th {\n",
       "        vertical-align: top;\n",
       "    }\n",
       "\n",
       "    .dataframe thead th {\n",
       "        text-align: right;\n",
       "    }\n",
       "</style>\n",
       "<table border=\"1\" class=\"dataframe\">\n",
       "  <thead>\n",
       "    <tr style=\"text-align: right;\">\n",
       "      <th></th>\n",
       "      <th>prb_id</th>\n",
       "      <th>ASN</th>\n",
       "      <th>Country</th>\n",
       "      <th>Name</th>\n",
       "      <th>NumIPs</th>\n",
       "      <th>type</th>\n",
       "    </tr>\n",
       "  </thead>\n",
       "  <tbody>\n",
       "    <tr>\n",
       "      <th>1637</th>\n",
       "      <td>57</td>\n",
       "      <td>AS20621</td>\n",
       "      <td>DE</td>\n",
       "      <td>PlusServer GmbH</td>\n",
       "      <td>10240</td>\n",
       "      <td>hosting</td>\n",
       "    </tr>\n",
       "    <tr>\n",
       "      <th>2451</th>\n",
       "      <td>92</td>\n",
       "      <td>AS12859</td>\n",
       "      <td>NL</td>\n",
       "      <td>BIT BV</td>\n",
       "      <td>66816</td>\n",
       "      <td>hosting</td>\n",
       "    </tr>\n",
       "    <tr>\n",
       "      <th>2452</th>\n",
       "      <td>6234</td>\n",
       "      <td>AS12859</td>\n",
       "      <td>NL</td>\n",
       "      <td>BIT BV</td>\n",
       "      <td>66816</td>\n",
       "      <td>hosting</td>\n",
       "    </tr>\n",
       "    <tr>\n",
       "      <th>2453</th>\n",
       "      <td>6237</td>\n",
       "      <td>AS12859</td>\n",
       "      <td>NL</td>\n",
       "      <td>BIT BV</td>\n",
       "      <td>66816</td>\n",
       "      <td>hosting</td>\n",
       "    </tr>\n",
       "    <tr>\n",
       "      <th>2454</th>\n",
       "      <td>32445</td>\n",
       "      <td>AS12859</td>\n",
       "      <td>NL</td>\n",
       "      <td>BIT BV</td>\n",
       "      <td>66816</td>\n",
       "      <td>hosting</td>\n",
       "    </tr>\n",
       "    <tr>\n",
       "      <th>2522</th>\n",
       "      <td>107</td>\n",
       "      <td>AS25596</td>\n",
       "      <td>NL</td>\n",
       "      <td>Cambrium IT Services B.V.</td>\n",
       "      <td>18432</td>\n",
       "      <td>hosting</td>\n",
       "    </tr>\n",
       "    <tr>\n",
       "      <th>2523</th>\n",
       "      <td>989</td>\n",
       "      <td>AS25596</td>\n",
       "      <td>NL</td>\n",
       "      <td>Cambrium IT Services B.V.</td>\n",
       "      <td>18432</td>\n",
       "      <td>hosting</td>\n",
       "    </tr>\n",
       "    <tr>\n",
       "      <th>2524</th>\n",
       "      <td>4052</td>\n",
       "      <td>AS25596</td>\n",
       "      <td>NL</td>\n",
       "      <td>Cambrium IT Services B.V.</td>\n",
       "      <td>18432</td>\n",
       "      <td>hosting</td>\n",
       "    </tr>\n",
       "    <tr>\n",
       "      <th>2525</th>\n",
       "      <td>4273</td>\n",
       "      <td>AS25596</td>\n",
       "      <td>NL</td>\n",
       "      <td>Cambrium IT Services B.V.</td>\n",
       "      <td>18432</td>\n",
       "      <td>hosting</td>\n",
       "    </tr>\n",
       "    <tr>\n",
       "      <th>2526</th>\n",
       "      <td>4680</td>\n",
       "      <td>AS25596</td>\n",
       "      <td>NL</td>\n",
       "      <td>Cambrium IT Services B.V.</td>\n",
       "      <td>18432</td>\n",
       "      <td>hosting</td>\n",
       "    </tr>\n",
       "  </tbody>\n",
       "</table>\n",
       "</div>"
      ],
      "text/plain": [
       "      prb_id      ASN Country                       Name  NumIPs     type\n",
       "1637      57  AS20621      DE            PlusServer GmbH   10240  hosting\n",
       "2451      92  AS12859      NL                     BIT BV   66816  hosting\n",
       "2452    6234  AS12859      NL                     BIT BV   66816  hosting\n",
       "2453    6237  AS12859      NL                     BIT BV   66816  hosting\n",
       "2454   32445  AS12859      NL                     BIT BV   66816  hosting\n",
       "2522     107  AS25596      NL  Cambrium IT Services B.V.   18432  hosting\n",
       "2523     989  AS25596      NL  Cambrium IT Services B.V.   18432  hosting\n",
       "2524    4052  AS25596      NL  Cambrium IT Services B.V.   18432  hosting\n",
       "2525    4273  AS25596      NL  Cambrium IT Services B.V.   18432  hosting\n",
       "2526    4680  AS25596      NL  Cambrium IT Services B.V.   18432  hosting"
      ]
     },
     "execution_count": 38,
     "metadata": {},
     "output_type": "execute_result"
    }
   ],
   "source": [
    "#show 10 first dataset of EU_AS_pb_joined\n",
    "EU_AS_pb_joined.head(10)"
   ]
  },
  {
   "cell_type": "code",
   "execution_count": 39,
   "id": "e86c76d1",
   "metadata": {},
   "outputs": [
    {
     "data": {
      "text/plain": [
       "<bound method NDFrame.describe of         prb_id       ASN Country                     Name  NumIPs     type\n",
       "1637        57   AS20621      DE          PlusServer GmbH   10240  hosting\n",
       "2451        92   AS12859      NL                   BIT BV   66816  hosting\n",
       "2452      6234   AS12859      NL                   BIT BV   66816  hosting\n",
       "2453      6237   AS12859      NL                   BIT BV   66816  hosting\n",
       "2454     32445   AS12859      NL                   BIT BV   66816  hosting\n",
       "...        ...       ...     ...                      ...     ...      ...\n",
       "10603    54951  AS205766      DE             Jonas Pasche    1792  hosting\n",
       "10656    55773  AS201525      BG           HZ Hosting Ltd    1536  hosting\n",
       "10663  1000024   AS51167      DE             Contabo GmbH  177152  hosting\n",
       "10664  1000183   AS51167      DE             Contabo GmbH  177152  hosting\n",
       "10678  1000116   AS44220      RO  Parfumuri Femei.com SRL    3328  hosting\n",
       "\n",
       "[339 rows x 6 columns]>"
      ]
     },
     "execution_count": 39,
     "metadata": {},
     "output_type": "execute_result"
    }
   ],
   "source": [
    "#describe the dataset\n",
    "EU_AS_pb_joined.describe"
   ]
  },
  {
   "cell_type": "code",
   "execution_count": 40,
   "id": "8d4d6a70",
   "metadata": {},
   "outputs": [
    {
     "data": {
      "text/plain": [
       "prb_id     0\n",
       "ASN        0\n",
       "Country    0\n",
       "Name       0\n",
       "NumIPs     0\n",
       "type       0\n",
       "dtype: int64"
      ]
     },
     "execution_count": 40,
     "metadata": {},
     "output_type": "execute_result"
    }
   ],
   "source": [
    "EU_AS_pb_joined[EU_AS_pb_joined['NumIPs'] == '0'].count()  #identify row with NumIPs = 0"
   ]
  },
  {
   "cell_type": "markdown",
   "id": "c872b967",
   "metadata": {},
   "source": [
    "There are 339 rows which filtered by:\n",
    "Type = Hosting;\n",
    "Country = in Europe;\n",
    "And within the dataset, the NumIPs = 0 is already excluded."
   ]
  },
  {
   "cell_type": "code",
   "execution_count": 41,
   "id": "b92b5e80",
   "metadata": {},
   "outputs": [
    {
     "name": "stdout",
     "output_type": "stream",
     "text": [
      "       prb_id       ASN Country                              Name  NumIPs  \\\n",
      "5116     6131    AS5404      AT        conova communications GmbH    8448   \n",
      "5115     2732    AS5404      AT        conova communications GmbH    8448   \n",
      "8153    32726    AS5430      DE  freenet Datenkommunikations GmbH  722432   \n",
      "8152    15517    AS5430      DE  freenet Datenkommunikations GmbH  722432   \n",
      "10328   51157    AS5521      DE                   PlusServer GmbH   22528   \n",
      "...       ...       ...     ...                               ...     ...   \n",
      "2911    22203  AS203953      DK                         Hiper A/S   17408   \n",
      "2915    51413  AS203953      DK                         Hiper A/S   17408   \n",
      "2910      298  AS203953      DK                         Hiper A/S   17408   \n",
      "2912    23321  AS203953      DK                         Hiper A/S   17408   \n",
      "10603   54951  AS205766      DE                      Jonas Pasche    1792   \n",
      "\n",
      "          type  \n",
      "5116   hosting  \n",
      "5115   hosting  \n",
      "8153   hosting  \n",
      "8152   hosting  \n",
      "10328  hosting  \n",
      "...        ...  \n",
      "2911   hosting  \n",
      "2915   hosting  \n",
      "2910   hosting  \n",
      "2912   hosting  \n",
      "10603  hosting  \n",
      "\n",
      "[339 rows x 6 columns]\n"
     ]
    }
   ],
   "source": [
    "#sort the ASN's in ascending order \n",
    "sorted_df = EU_AS_pb_joined.sort_values('ASN', key=lambda x: x.str.extract('(\\d+)').squeeze().astype(int))\n",
    "print(sorted_df)"
   ]
  },
  {
   "cell_type": "code",
   "execution_count": 42,
   "id": "4567b358",
   "metadata": {},
   "outputs": [
    {
     "data": {
      "text/html": [
       "<div>\n",
       "<style scoped>\n",
       "    .dataframe tbody tr th:only-of-type {\n",
       "        vertical-align: middle;\n",
       "    }\n",
       "\n",
       "    .dataframe tbody tr th {\n",
       "        vertical-align: top;\n",
       "    }\n",
       "\n",
       "    .dataframe thead th {\n",
       "        text-align: right;\n",
       "    }\n",
       "</style>\n",
       "<table border=\"1\" class=\"dataframe\">\n",
       "  <thead>\n",
       "    <tr style=\"text-align: right;\">\n",
       "      <th></th>\n",
       "      <th>ASN</th>\n",
       "      <th>Name</th>\n",
       "      <th>Country</th>\n",
       "    </tr>\n",
       "  </thead>\n",
       "  <tbody>\n",
       "    <tr>\n",
       "      <th>5116</th>\n",
       "      <td>AS5404</td>\n",
       "      <td>conova communications GmbH</td>\n",
       "      <td>AT</td>\n",
       "    </tr>\n",
       "    <tr>\n",
       "      <th>5115</th>\n",
       "      <td>AS5404</td>\n",
       "      <td>conova communications GmbH</td>\n",
       "      <td>AT</td>\n",
       "    </tr>\n",
       "    <tr>\n",
       "      <th>8153</th>\n",
       "      <td>AS5430</td>\n",
       "      <td>freenet Datenkommunikations GmbH</td>\n",
       "      <td>DE</td>\n",
       "    </tr>\n",
       "  </tbody>\n",
       "</table>\n",
       "</div>"
      ],
      "text/plain": [
       "         ASN                              Name Country\n",
       "5116  AS5404        conova communications GmbH      AT\n",
       "5115  AS5404        conova communications GmbH      AT\n",
       "8153  AS5430  freenet Datenkommunikations GmbH      DE"
      ]
     },
     "execution_count": 42,
     "metadata": {},
     "output_type": "execute_result"
    }
   ],
   "source": [
    "#show 3 first data of the sorted dataset\n",
    "sorted_df[['ASN', 'Name', 'Country']].head(3)"
   ]
  },
  {
   "cell_type": "code",
   "execution_count": 43,
   "id": "415d5221",
   "metadata": {},
   "outputs": [
    {
     "data": {
      "text/html": [
       "<div>\n",
       "<style scoped>\n",
       "    .dataframe tbody tr th:only-of-type {\n",
       "        vertical-align: middle;\n",
       "    }\n",
       "\n",
       "    .dataframe tbody tr th {\n",
       "        vertical-align: top;\n",
       "    }\n",
       "\n",
       "    .dataframe thead th {\n",
       "        text-align: right;\n",
       "    }\n",
       "</style>\n",
       "<table border=\"1\" class=\"dataframe\">\n",
       "  <thead>\n",
       "    <tr style=\"text-align: right;\">\n",
       "      <th></th>\n",
       "      <th>ASN</th>\n",
       "      <th>Name</th>\n",
       "      <th>Country</th>\n",
       "    </tr>\n",
       "  </thead>\n",
       "  <tbody>\n",
       "    <tr>\n",
       "      <th>2910</th>\n",
       "      <td>AS203953</td>\n",
       "      <td>Hiper A/S</td>\n",
       "      <td>DK</td>\n",
       "    </tr>\n",
       "    <tr>\n",
       "      <th>2912</th>\n",
       "      <td>AS203953</td>\n",
       "      <td>Hiper A/S</td>\n",
       "      <td>DK</td>\n",
       "    </tr>\n",
       "    <tr>\n",
       "      <th>10603</th>\n",
       "      <td>AS205766</td>\n",
       "      <td>Jonas Pasche</td>\n",
       "      <td>DE</td>\n",
       "    </tr>\n",
       "  </tbody>\n",
       "</table>\n",
       "</div>"
      ],
      "text/plain": [
       "            ASN          Name Country\n",
       "2910   AS203953     Hiper A/S      DK\n",
       "2912   AS203953     Hiper A/S      DK\n",
       "10603  AS205766  Jonas Pasche      DE"
      ]
     },
     "execution_count": 43,
     "metadata": {},
     "output_type": "execute_result"
    }
   ],
   "source": [
    "#show 3 last data of the sorted dataset\n",
    "sorted_df[['ASN', 'Name', 'Country']].tail(3)"
   ]
  },
  {
   "cell_type": "code",
   "execution_count": 44,
   "id": "2ed52b7d",
   "metadata": {},
   "outputs": [
    {
     "data": {
      "text/plain": [
       "145"
      ]
     },
     "execution_count": 44,
     "metadata": {},
     "output_type": "execute_result"
    }
   ],
   "source": [
    "unique_sorted_df = sorted_df.ASN.unique()\n",
    "len(unique_sorted_df)"
   ]
  },
  {
   "cell_type": "markdown",
   "id": "b6c19cff",
   "metadata": {},
   "source": [
    "There are 145 unique ASN from 339 rows of sorted dataset."
   ]
  },
  {
   "cell_type": "markdown",
   "id": "b040174c",
   "metadata": {},
   "source": [
    "### Task C\n",
    "For a single hour in the RIPE data set: find all valid entries where the probe has hosting type AS and\n",
    "the target IPv4 is from an EU country. Implement this in an efficient way"
   ]
  },
  {
   "cell_type": "code",
   "execution_count": 45,
   "id": "a183dfd4",
   "metadata": {},
   "outputs": [],
   "source": [
    "#store the timestamp to integer (or convert as you want as required)"
   ]
  },
  {
   "cell_type": "code",
   "execution_count": 46,
   "id": "beb6e036",
   "metadata": {},
   "outputs": [],
   "source": [
    "#decoded_line = filter(lambda decoded_line: decoded_line['mver'], decoded_line)"
   ]
  },
  {
   "cell_type": "code",
   "execution_count": 47,
   "id": "7a082c60",
   "metadata": {},
   "outputs": [
    {
     "data": {
      "text/html": [
       "<div>\n",
       "<style scoped>\n",
       "    .dataframe tbody tr th:only-of-type {\n",
       "        vertical-align: middle;\n",
       "    }\n",
       "\n",
       "    .dataframe tbody tr th {\n",
       "        vertical-align: top;\n",
       "    }\n",
       "\n",
       "    .dataframe thead th {\n",
       "        text-align: right;\n",
       "    }\n",
       "</style>\n",
       "<table border=\"1\" class=\"dataframe\">\n",
       "  <thead>\n",
       "    <tr style=\"text-align: right;\">\n",
       "      <th></th>\n",
       "      <th>fw</th>\n",
       "      <th>lts</th>\n",
       "      <th>dst_name</th>\n",
       "      <th>af</th>\n",
       "      <th>dst_addr</th>\n",
       "      <th>src_addr</th>\n",
       "      <th>proto</th>\n",
       "      <th>ttl</th>\n",
       "      <th>size</th>\n",
       "      <th>result</th>\n",
       "      <th>dup</th>\n",
       "      <th>rcvd</th>\n",
       "      <th>sent</th>\n",
       "      <th>min</th>\n",
       "      <th>max</th>\n",
       "      <th>avg</th>\n",
       "      <th>msm_id</th>\n",
       "      <th>prb_id</th>\n",
       "      <th>timestamp</th>\n",
       "      <th>msm_name</th>\n",
       "      <th>from</th>\n",
       "      <th>type</th>\n",
       "      <th>step</th>\n",
       "    </tr>\n",
       "  </thead>\n",
       "  <tbody>\n",
       "    <tr>\n",
       "      <th>0</th>\n",
       "      <td>4790</td>\n",
       "      <td>41</td>\n",
       "      <td>199.9.14.201</td>\n",
       "      <td>4</td>\n",
       "      <td>199.9.14.201</td>\n",
       "      <td>192.168.21.101</td>\n",
       "      <td>ICMP</td>\n",
       "      <td>56</td>\n",
       "      <td>20</td>\n",
       "      <td>{'rtt': 41.258504}</td>\n",
       "      <td>0</td>\n",
       "      <td>3</td>\n",
       "      <td>3</td>\n",
       "      <td>41.125641</td>\n",
       "      <td>41.258504</td>\n",
       "      <td>41.182985</td>\n",
       "      <td>1010</td>\n",
       "      <td>4861</td>\n",
       "      <td>1646093211</td>\n",
       "      <td>Ping</td>\n",
       "      <td>188.163.120.63</td>\n",
       "      <td>ping</td>\n",
       "      <td>240</td>\n",
       "    </tr>\n",
       "    <tr>\n",
       "      <th>1</th>\n",
       "      <td>4790</td>\n",
       "      <td>41</td>\n",
       "      <td>199.9.14.201</td>\n",
       "      <td>4</td>\n",
       "      <td>199.9.14.201</td>\n",
       "      <td>192.168.21.101</td>\n",
       "      <td>ICMP</td>\n",
       "      <td>56</td>\n",
       "      <td>20</td>\n",
       "      <td>{'rtt': 41.164809}</td>\n",
       "      <td>0</td>\n",
       "      <td>3</td>\n",
       "      <td>3</td>\n",
       "      <td>41.125641</td>\n",
       "      <td>41.258504</td>\n",
       "      <td>41.182985</td>\n",
       "      <td>1010</td>\n",
       "      <td>4861</td>\n",
       "      <td>1646093211</td>\n",
       "      <td>Ping</td>\n",
       "      <td>188.163.120.63</td>\n",
       "      <td>ping</td>\n",
       "      <td>240</td>\n",
       "    </tr>\n",
       "    <tr>\n",
       "      <th>2</th>\n",
       "      <td>4790</td>\n",
       "      <td>41</td>\n",
       "      <td>199.9.14.201</td>\n",
       "      <td>4</td>\n",
       "      <td>199.9.14.201</td>\n",
       "      <td>192.168.21.101</td>\n",
       "      <td>ICMP</td>\n",
       "      <td>56</td>\n",
       "      <td>20</td>\n",
       "      <td>{'rtt': 41.125641}</td>\n",
       "      <td>0</td>\n",
       "      <td>3</td>\n",
       "      <td>3</td>\n",
       "      <td>41.125641</td>\n",
       "      <td>41.258504</td>\n",
       "      <td>41.182985</td>\n",
       "      <td>1010</td>\n",
       "      <td>4861</td>\n",
       "      <td>1646093211</td>\n",
       "      <td>Ping</td>\n",
       "      <td>188.163.120.63</td>\n",
       "      <td>ping</td>\n",
       "      <td>240</td>\n",
       "    </tr>\n",
       "  </tbody>\n",
       "</table>\n",
       "</div>"
      ],
      "text/plain": [
       "     fw  lts      dst_name  af      dst_addr        src_addr proto  ttl  size  \\\n",
       "0  4790   41  199.9.14.201   4  199.9.14.201  192.168.21.101  ICMP   56    20   \n",
       "1  4790   41  199.9.14.201   4  199.9.14.201  192.168.21.101  ICMP   56    20   \n",
       "2  4790   41  199.9.14.201   4  199.9.14.201  192.168.21.101  ICMP   56    20   \n",
       "\n",
       "               result  dup  rcvd  sent        min        max        avg  \\\n",
       "0  {'rtt': 41.258504}    0     3     3  41.125641  41.258504  41.182985   \n",
       "1  {'rtt': 41.164809}    0     3     3  41.125641  41.258504  41.182985   \n",
       "2  {'rtt': 41.125641}    0     3     3  41.125641  41.258504  41.182985   \n",
       "\n",
       "   msm_id  prb_id   timestamp msm_name            from  type  step  \n",
       "0    1010    4861  1646093211     Ping  188.163.120.63  ping   240  \n",
       "1    1010    4861  1646093211     Ping  188.163.120.63  ping   240  \n",
       "2    1010    4861  1646093211     Ping  188.163.120.63  ping   240  "
      ]
     },
     "execution_count": 47,
     "metadata": {},
     "output_type": "execute_result"
    }
   ],
   "source": [
    "ripe_df = pd.DataFrame(decoded_line)\n",
    "ripe_df.tail(100)"
   ]
  },
  {
   "cell_type": "markdown",
   "id": "af43e568",
   "metadata": {},
   "source": [
    "The data response is not consistent, there are lists with 'mver' column and there are also lists without 'mver' column which caused the mapping in aboved code is not optimal. A manual mapping column from json responses to panda dataframe should be done to avoid 'mver' reading and to select several data needed only for the assignment."
   ]
  },
  {
   "cell_type": "code",
   "execution_count": 48,
   "id": "20e1e026",
   "metadata": {},
   "outputs": [
    {
     "name": "stdout",
     "output_type": "stream",
     "text": [
      "\n",
      "bz2 file:\n",
      "Loading 28662238 lines took: 811.89 seconds\n",
      "Selected 648635 lines\n"
     ]
    }
   ],
   "source": [
    "bz2Filename = 'ping-2022-03-01T0000.bz2'\n",
    "bz2File     = bz2.open(bz2Filename, 'rt') \n",
    "\n",
    "# List of tuples\n",
    "# https://stackoverflow.com/questions/28056171/how-to-build-and-fill-pandas-dataframe-from-for-loop\n",
    "tuple_list = []\n",
    "probes_in_RIPE_list = []\n",
    "#read first 10 lines to estimate total loading time\n",
    "totalNrOfLines = 0\n",
    "filteredNrOfLines = 0\n",
    "\n",
    "start  = time.time()\n",
    "for line in bz2File:\n",
    "    #print(line)\n",
    "    decoded_line = json.loads(line)\n",
    "    if \"af\" in decoded_line and \"dst_addr\" in decoded_line and \"prb_id\" in decoded_line and \"avg\" in decoded_line: \n",
    "        if(decoded_line[\"af\"] == 4 and (decoded_line[\"prb_id\"] in sorted_df[\"prb_id\"]) and (decoded_line[\"avg\"] > 0)):\n",
    "            filteredNrOfLines += 1\n",
    "            probes_in_RIPE_list.append(decoded_line[\"prb_id\"])\n",
    "            tuple_list.append((decoded_line[\"dst_addr\"],decoded_line[\"prb_id\"],decoded_line[\"avg\"]))\n",
    "    #print(decoded_line)\n",
    "    totalNrOfLines += 1\n",
    "    #if totalNrOfLines > 100000:\n",
    "    #    break\n",
    "\n",
    "duration = round(time.time() - start,2)\n",
    "print(\"\\nbz2 file:\" )\n",
    "print(\"Loading \" + str(totalNrOfLines) +  \" lines took: \"  + str(duration) + \" seconds\")\n",
    "print(\"Selected \" + str(filteredNrOfLines) +  \" lines\")\n"
   ]
  },
  {
   "cell_type": "code",
   "execution_count": 49,
   "id": "9e805855",
   "metadata": {},
   "outputs": [],
   "source": [
    "#map column from json response to panda dataframe\n",
    "#df_final = pd.json_normalize(decoded_line)\n",
    "#df_final.head()"
   ]
  },
  {
   "cell_type": "code",
   "execution_count": 50,
   "id": "644f2a90",
   "metadata": {},
   "outputs": [
    {
     "data": {
      "text/plain": [
       "82"
      ]
     },
     "execution_count": 50,
     "metadata": {},
     "output_type": "execute_result"
    }
   ],
   "source": [
    "probes_set = set(probes_in_RIPE_list) #set probes in RIPE list\n",
    "len(probes_set)"
   ]
  },
  {
   "cell_type": "code",
   "execution_count": 51,
   "id": "a753c6fb",
   "metadata": {},
   "outputs": [],
   "source": [
    "filtered_RIPE_df = pd.DataFrame(tuple_list, columns=('dst_addr', 'prb_id', 'avg')) #mapping dst_addr, prb_id and avg in a new dataframe"
   ]
  },
  {
   "cell_type": "code",
   "execution_count": 52,
   "id": "fe45ef3c",
   "metadata": {},
   "outputs": [
    {
     "data": {
      "text/plain": [
       "(648635, 3)"
      ]
     },
     "execution_count": 52,
     "metadata": {},
     "output_type": "execute_result"
    }
   ],
   "source": [
    "filtered_RIPE_df.shape"
   ]
  },
  {
   "cell_type": "code",
   "execution_count": 53,
   "id": "127b5852",
   "metadata": {},
   "outputs": [
    {
     "data": {
      "text/html": [
       "<div>\n",
       "<style scoped>\n",
       "    .dataframe tbody tr th:only-of-type {\n",
       "        vertical-align: middle;\n",
       "    }\n",
       "\n",
       "    .dataframe tbody tr th {\n",
       "        vertical-align: top;\n",
       "    }\n",
       "\n",
       "    .dataframe thead th {\n",
       "        text-align: right;\n",
       "    }\n",
       "</style>\n",
       "<table border=\"1\" class=\"dataframe\">\n",
       "  <thead>\n",
       "    <tr style=\"text-align: right;\">\n",
       "      <th></th>\n",
       "      <th>dst_addr</th>\n",
       "      <th>prb_id</th>\n",
       "      <th>avg</th>\n",
       "    </tr>\n",
       "  </thead>\n",
       "  <tbody>\n",
       "    <tr>\n",
       "      <th>0</th>\n",
       "      <td>193.0.19.60</td>\n",
       "      <td>10603</td>\n",
       "      <td>34.819981</td>\n",
       "    </tr>\n",
       "    <tr>\n",
       "      <th>1</th>\n",
       "      <td>129.13.73.54</td>\n",
       "      <td>10603</td>\n",
       "      <td>44.838081</td>\n",
       "    </tr>\n",
       "    <tr>\n",
       "      <th>2</th>\n",
       "      <td>81.91.95.116</td>\n",
       "      <td>10603</td>\n",
       "      <td>45.931803</td>\n",
       "    </tr>\n",
       "    <tr>\n",
       "      <th>3</th>\n",
       "      <td>5.188.108.64</td>\n",
       "      <td>10603</td>\n",
       "      <td>18.466986</td>\n",
       "    </tr>\n",
       "    <tr>\n",
       "      <th>4</th>\n",
       "      <td>80.67.181.29</td>\n",
       "      <td>10603</td>\n",
       "      <td>38.368946</td>\n",
       "    </tr>\n",
       "  </tbody>\n",
       "</table>\n",
       "</div>"
      ],
      "text/plain": [
       "       dst_addr  prb_id        avg\n",
       "0   193.0.19.60   10603  34.819981\n",
       "1  129.13.73.54   10603  44.838081\n",
       "2  81.91.95.116   10603  45.931803\n",
       "3  5.188.108.64   10603  18.466986\n",
       "4  80.67.181.29   10603  38.368946"
      ]
     },
     "execution_count": 53,
     "metadata": {},
     "output_type": "execute_result"
    }
   ],
   "source": [
    "filtered_RIPE_df.head() #show filtered RIPE with dst_addr, prb_id and avg columns"
   ]
  },
  {
   "cell_type": "code",
   "execution_count": 54,
   "id": "1e04a18d",
   "metadata": {},
   "outputs": [
    {
     "data": {
      "text/plain": [
       "dst_addr    False\n",
       "prb_id      False\n",
       "avg         False\n",
       "dtype: bool"
      ]
     },
     "execution_count": 54,
     "metadata": {},
     "output_type": "execute_result"
    }
   ],
   "source": [
    "filtered_RIPE_df.isnull().any() #check wether there are null value in the dataset"
   ]
  },
  {
   "cell_type": "code",
   "execution_count": 55,
   "id": "a851103b",
   "metadata": {},
   "outputs": [
    {
     "data": {
      "text/plain": [
       "count           648635\n",
       "unique            1112\n",
       "top       202.12.27.33\n",
       "freq              1220\n",
       "Name: dst_addr, dtype: object"
      ]
     },
     "execution_count": 55,
     "metadata": {},
     "output_type": "execute_result"
    }
   ],
   "source": [
    "filtered_RIPE_df['dst_addr'].describe()"
   ]
  },
  {
   "cell_type": "code",
   "execution_count": 56,
   "id": "469ae878",
   "metadata": {},
   "outputs": [
    {
     "data": {
      "text/plain": [
       "'1.0.0.1'"
      ]
     },
     "execution_count": 56,
     "metadata": {},
     "output_type": "execute_result"
    }
   ],
   "source": [
    "filtered_RIPE_df['dst_addr'].min()"
   ]
  },
  {
   "cell_type": "markdown",
   "id": "9676c46f",
   "metadata": {},
   "source": [
    "There are no 0.0.0.0 dst_addr which means the dataset for dst_addr is already valid"
   ]
  },
  {
   "cell_type": "code",
   "execution_count": 57,
   "id": "be25b086",
   "metadata": {},
   "outputs": [
    {
     "data": {
      "text/plain": [
       "count    648635.000000\n",
       "mean       6644.253739\n",
       "std         554.052628\n",
       "min        2522.000000\n",
       "25%        6471.000000\n",
       "50%        6747.000000\n",
       "75%        6879.000000\n",
       "max       10678.000000\n",
       "Name: prb_id, dtype: float64"
      ]
     },
     "execution_count": 57,
     "metadata": {},
     "output_type": "execute_result"
    }
   ],
   "source": [
    "filtered_RIPE_df['prb_id'].describe()"
   ]
  },
  {
   "cell_type": "markdown",
   "id": "fc97293f",
   "metadata": {},
   "source": [
    "Minimum and maximum value of prb_id is 2522 and 10678 respectively which means the dataset is valid"
   ]
  },
  {
   "cell_type": "code",
   "execution_count": 58,
   "id": "b753e28e",
   "metadata": {},
   "outputs": [
    {
     "data": {
      "text/plain": [
       "count    648635.000000\n",
       "mean        124.421385\n",
       "std          94.166873\n",
       "min           0.025559\n",
       "25%          38.951239\n",
       "50%         103.415823\n",
       "75%         197.647896\n",
       "max        1138.807999\n",
       "Name: avg, dtype: float64"
      ]
     },
     "execution_count": 58,
     "metadata": {},
     "output_type": "execute_result"
    }
   ],
   "source": [
    "filtered_RIPE_df['avg'].describe()"
   ]
  },
  {
   "cell_type": "markdown",
   "id": "a23c509a",
   "metadata": {},
   "source": [
    "Minimum and maximum value of avg is 0.025559 and 1138.807999 which means the dataset is valid"
   ]
  },
  {
   "cell_type": "code",
   "execution_count": 59,
   "id": "99de9e5f",
   "metadata": {},
   "outputs": [],
   "source": [
    "#combine filtered_RIPE_df with sorted_df\n",
    "#merge the AS dataset and Probe data\n",
    "filtered_RIPE_df = filtered_RIPE_df.merge(sorted_df, left_on='prb_id', right_on='prb_id', how='inner')\n",
    "filtered_RIPE_df = filtered_RIPE_df.replace(np.nan,'', regex=True) "
   ]
  },
  {
   "cell_type": "code",
   "execution_count": 60,
   "id": "46397f55",
   "metadata": {},
   "outputs": [
    {
     "data": {
      "text/html": [
       "<div>\n",
       "<style scoped>\n",
       "    .dataframe tbody tr th:only-of-type {\n",
       "        vertical-align: middle;\n",
       "    }\n",
       "\n",
       "    .dataframe tbody tr th {\n",
       "        vertical-align: top;\n",
       "    }\n",
       "\n",
       "    .dataframe thead th {\n",
       "        text-align: right;\n",
       "    }\n",
       "</style>\n",
       "<table border=\"1\" class=\"dataframe\">\n",
       "  <thead>\n",
       "    <tr style=\"text-align: right;\">\n",
       "      <th></th>\n",
       "      <th>dst_addr</th>\n",
       "      <th>prb_id</th>\n",
       "      <th>avg</th>\n",
       "      <th>ASN</th>\n",
       "      <th>Country</th>\n",
       "      <th>Name</th>\n",
       "      <th>NumIPs</th>\n",
       "      <th>type</th>\n",
       "    </tr>\n",
       "  </thead>\n",
       "  <tbody>\n",
       "    <tr>\n",
       "      <th>0</th>\n",
       "      <td>217.28.166.213</td>\n",
       "      <td>6584</td>\n",
       "      <td>17.631136</td>\n",
       "      <td>AS35277</td>\n",
       "      <td>RO</td>\n",
       "      <td>LLHOST INC. SRL</td>\n",
       "      <td>1536</td>\n",
       "      <td>hosting</td>\n",
       "    </tr>\n",
       "    <tr>\n",
       "      <th>1</th>\n",
       "      <td>96.126.70.90</td>\n",
       "      <td>6584</td>\n",
       "      <td>224.582221</td>\n",
       "      <td>AS35277</td>\n",
       "      <td>RO</td>\n",
       "      <td>LLHOST INC. SRL</td>\n",
       "      <td>1536</td>\n",
       "      <td>hosting</td>\n",
       "    </tr>\n",
       "    <tr>\n",
       "      <th>2</th>\n",
       "      <td>109.168.125.243</td>\n",
       "      <td>6584</td>\n",
       "      <td>15.618416</td>\n",
       "      <td>AS35277</td>\n",
       "      <td>RO</td>\n",
       "      <td>LLHOST INC. SRL</td>\n",
       "      <td>1536</td>\n",
       "      <td>hosting</td>\n",
       "    </tr>\n",
       "    <tr>\n",
       "      <th>3</th>\n",
       "      <td>217.25.179.62</td>\n",
       "      <td>6584</td>\n",
       "      <td>29.279891</td>\n",
       "      <td>AS35277</td>\n",
       "      <td>RO</td>\n",
       "      <td>LLHOST INC. SRL</td>\n",
       "      <td>1536</td>\n",
       "      <td>hosting</td>\n",
       "    </tr>\n",
       "    <tr>\n",
       "      <th>4</th>\n",
       "      <td>217.31.202.20</td>\n",
       "      <td>6584</td>\n",
       "      <td>26.894860</td>\n",
       "      <td>AS35277</td>\n",
       "      <td>RO</td>\n",
       "      <td>LLHOST INC. SRL</td>\n",
       "      <td>1536</td>\n",
       "      <td>hosting</td>\n",
       "    </tr>\n",
       "  </tbody>\n",
       "</table>\n",
       "</div>"
      ],
      "text/plain": [
       "          dst_addr  prb_id         avg      ASN Country             Name  \\\n",
       "0   217.28.166.213    6584   17.631136  AS35277      RO  LLHOST INC. SRL   \n",
       "1     96.126.70.90    6584  224.582221  AS35277      RO  LLHOST INC. SRL   \n",
       "2  109.168.125.243    6584   15.618416  AS35277      RO  LLHOST INC. SRL   \n",
       "3    217.25.179.62    6584   29.279891  AS35277      RO  LLHOST INC. SRL   \n",
       "4    217.31.202.20    6584   26.894860  AS35277      RO  LLHOST INC. SRL   \n",
       "\n",
       "   NumIPs     type  \n",
       "0    1536  hosting  \n",
       "1    1536  hosting  \n",
       "2    1536  hosting  \n",
       "3    1536  hosting  \n",
       "4    1536  hosting  "
      ]
     },
     "execution_count": 60,
     "metadata": {},
     "output_type": "execute_result"
    }
   ],
   "source": [
    "filtered_RIPE_df.head()"
   ]
  },
  {
   "cell_type": "code",
   "execution_count": 99,
   "id": "b76ffef0",
   "metadata": {},
   "outputs": [],
   "source": [
    "#convert ipaddress from IPv4 format to integer format\n",
    "import ipaddress\n",
    "filtered_RIPE_df[\"dst_ipint\"] = filtered_RIPE_df[\"dst_addr\"].apply(lambda x:int(ipaddress.IPv4Address(x)))"
   ]
  },
  {
   "cell_type": "code",
   "execution_count": 100,
   "id": "2f650346",
   "metadata": {},
   "outputs": [
    {
     "data": {
      "text/html": [
       "<div>\n",
       "<style scoped>\n",
       "    .dataframe tbody tr th:only-of-type {\n",
       "        vertical-align: middle;\n",
       "    }\n",
       "\n",
       "    .dataframe tbody tr th {\n",
       "        vertical-align: top;\n",
       "    }\n",
       "\n",
       "    .dataframe thead th {\n",
       "        text-align: right;\n",
       "    }\n",
       "</style>\n",
       "<table border=\"1\" class=\"dataframe\">\n",
       "  <thead>\n",
       "    <tr style=\"text-align: right;\">\n",
       "      <th></th>\n",
       "      <th>dst_addr</th>\n",
       "      <th>prb_id</th>\n",
       "      <th>avg</th>\n",
       "      <th>ASN</th>\n",
       "      <th>Country</th>\n",
       "      <th>Name</th>\n",
       "      <th>NumIPs</th>\n",
       "      <th>type</th>\n",
       "      <th>dst_ipint</th>\n",
       "    </tr>\n",
       "  </thead>\n",
       "  <tbody>\n",
       "    <tr>\n",
       "      <th>0</th>\n",
       "      <td>217.28.166.213</td>\n",
       "      <td>6584</td>\n",
       "      <td>17.631136</td>\n",
       "      <td>AS35277</td>\n",
       "      <td>RO</td>\n",
       "      <td>LLHOST INC. SRL</td>\n",
       "      <td>1536</td>\n",
       "      <td>hosting</td>\n",
       "      <td>3642533589</td>\n",
       "    </tr>\n",
       "    <tr>\n",
       "      <th>2</th>\n",
       "      <td>217.28.166.213</td>\n",
       "      <td>6584</td>\n",
       "      <td>15.618416</td>\n",
       "      <td>AS35277</td>\n",
       "      <td>RO</td>\n",
       "      <td>LLHOST INC. SRL</td>\n",
       "      <td>1536</td>\n",
       "      <td>hosting</td>\n",
       "      <td>3642533589</td>\n",
       "    </tr>\n",
       "    <tr>\n",
       "      <th>3</th>\n",
       "      <td>217.28.166.213</td>\n",
       "      <td>6584</td>\n",
       "      <td>29.279891</td>\n",
       "      <td>AS35277</td>\n",
       "      <td>RO</td>\n",
       "      <td>LLHOST INC. SRL</td>\n",
       "      <td>1536</td>\n",
       "      <td>hosting</td>\n",
       "      <td>3642533589</td>\n",
       "    </tr>\n",
       "    <tr>\n",
       "      <th>4</th>\n",
       "      <td>217.28.166.213</td>\n",
       "      <td>6584</td>\n",
       "      <td>26.894860</td>\n",
       "      <td>AS35277</td>\n",
       "      <td>RO</td>\n",
       "      <td>LLHOST INC. SRL</td>\n",
       "      <td>1536</td>\n",
       "      <td>hosting</td>\n",
       "      <td>3642533589</td>\n",
       "    </tr>\n",
       "    <tr>\n",
       "      <th>5</th>\n",
       "      <td>217.28.166.213</td>\n",
       "      <td>6584</td>\n",
       "      <td>1.330937</td>\n",
       "      <td>AS35277</td>\n",
       "      <td>RO</td>\n",
       "      <td>LLHOST INC. SRL</td>\n",
       "      <td>1536</td>\n",
       "      <td>hosting</td>\n",
       "      <td>3642533589</td>\n",
       "    </tr>\n",
       "  </tbody>\n",
       "</table>\n",
       "</div>"
      ],
      "text/plain": [
       "         dst_addr  prb_id        avg      ASN Country             Name  \\\n",
       "0  217.28.166.213    6584  17.631136  AS35277      RO  LLHOST INC. SRL   \n",
       "2  217.28.166.213    6584  15.618416  AS35277      RO  LLHOST INC. SRL   \n",
       "3  217.28.166.213    6584  29.279891  AS35277      RO  LLHOST INC. SRL   \n",
       "4  217.28.166.213    6584  26.894860  AS35277      RO  LLHOST INC. SRL   \n",
       "5  217.28.166.213    6584   1.330937  AS35277      RO  LLHOST INC. SRL   \n",
       "\n",
       "   NumIPs     type   dst_ipint  \n",
       "0    1536  hosting  3642533589  \n",
       "2    1536  hosting  3642533589  \n",
       "3    1536  hosting  3642533589  \n",
       "4    1536  hosting  3642533589  \n",
       "5    1536  hosting  3642533589  "
      ]
     },
     "execution_count": 100,
     "metadata": {},
     "output_type": "execute_result"
    }
   ],
   "source": [
    "filtered_RIPE_df.head() #show the new filtered_RIPE_df.head and now there is new column of IP with integer format"
   ]
  },
  {
   "cell_type": "code",
   "execution_count": 101,
   "id": "6a153f3d",
   "metadata": {
    "scrolled": true
   },
   "outputs": [
    {
     "data": {
      "text/plain": [
       "dst_addr     14276\n",
       "prb_id       14276\n",
       "avg          14276\n",
       "ASN          14276\n",
       "Country      14276\n",
       "Name         14276\n",
       "NumIPs       14276\n",
       "type         14276\n",
       "dst_ipint    14276\n",
       "dtype: int64"
      ]
     },
     "execution_count": 101,
     "metadata": {},
     "output_type": "execute_result"
    }
   ],
   "source": [
    "filtered_RIPE_df.count() #filtered_RIPE_df for EU country only since it is merged with AS dataset that already filtered by EU only"
   ]
  },
  {
   "cell_type": "markdown",
   "id": "2af8e50c",
   "metadata": {},
   "source": [
    "From total 648635 data in the 1 hour dataset, the data which already filtered by hosting type and used probe id (prb_id) is 22839 which is only 3.5% of total data in 1 hour.\n",
    "\n",
    "Now, filter the data to identify data which target IPv4 is from an EU country only with reference to ipv4_df dataset."
   ]
  },
  {
   "cell_type": "code",
   "execution_count": 63,
   "id": "f41b40c1",
   "metadata": {},
   "outputs": [
    {
     "data": {
      "text/html": [
       "<div>\n",
       "<style scoped>\n",
       "    .dataframe tbody tr th:only-of-type {\n",
       "        vertical-align: middle;\n",
       "    }\n",
       "\n",
       "    .dataframe tbody tr th {\n",
       "        vertical-align: top;\n",
       "    }\n",
       "\n",
       "    .dataframe thead th {\n",
       "        text-align: right;\n",
       "    }\n",
       "</style>\n",
       "<table border=\"1\" class=\"dataframe\">\n",
       "  <thead>\n",
       "    <tr style=\"text-align: right;\">\n",
       "      <th></th>\n",
       "      <th>ip_from</th>\n",
       "      <th>ip_to</th>\n",
       "      <th>country_code</th>\n",
       "      <th>country_name</th>\n",
       "    </tr>\n",
       "  </thead>\n",
       "  <tbody>\n",
       "    <tr>\n",
       "      <th>88</th>\n",
       "      <td>28499968</td>\n",
       "      <td>28508159</td>\n",
       "      <td>ES</td>\n",
       "      <td>Spain</td>\n",
       "    </tr>\n",
       "    <tr>\n",
       "      <th>96</th>\n",
       "      <td>28536832</td>\n",
       "      <td>28540927</td>\n",
       "      <td>FR</td>\n",
       "      <td>France</td>\n",
       "    </tr>\n",
       "    <tr>\n",
       "      <th>105</th>\n",
       "      <td>33554432</td>\n",
       "      <td>34603263</td>\n",
       "      <td>FR</td>\n",
       "      <td>France</td>\n",
       "    </tr>\n",
       "    <tr>\n",
       "      <th>106</th>\n",
       "      <td>34603264</td>\n",
       "      <td>34603519</td>\n",
       "      <td>PL</td>\n",
       "      <td>Poland</td>\n",
       "    </tr>\n",
       "    <tr>\n",
       "      <th>107</th>\n",
       "      <td>34603520</td>\n",
       "      <td>34603775</td>\n",
       "      <td>CZ</td>\n",
       "      <td>Czechia</td>\n",
       "    </tr>\n",
       "  </tbody>\n",
       "</table>\n",
       "</div>"
      ],
      "text/plain": [
       "      ip_from     ip_to country_code country_name\n",
       "88   28499968  28508159           ES        Spain\n",
       "96   28536832  28540927           FR       France\n",
       "105  33554432  34603263           FR       France\n",
       "106  34603264  34603519           PL       Poland\n",
       "107  34603520  34603775           CZ      Czechia"
      ]
     },
     "execution_count": 63,
     "metadata": {},
     "output_type": "execute_result"
    }
   ],
   "source": [
    "#first filter ipv4_df for EU only\n",
    "EU_ipv4_df = ipv4_df[ipv4_df.country_code.isin(EU_country_list)]\n",
    "EU_ipv4_df.head()"
   ]
  },
  {
   "cell_type": "code",
   "execution_count": 64,
   "id": "12409e07",
   "metadata": {},
   "outputs": [
    {
     "data": {
      "text/plain": [
       "ip_from         65904\n",
       "ip_to           65904\n",
       "country_code    65904\n",
       "country_name    65904\n",
       "dtype: int64"
      ]
     },
     "execution_count": 64,
     "metadata": {},
     "output_type": "execute_result"
    }
   ],
   "source": [
    "EU_ipv4_df.count() #there are 65904 rows for ipv4 in EU only"
   ]
  },
  {
   "cell_type": "code",
   "execution_count": 109,
   "id": "00fa1103",
   "metadata": {},
   "outputs": [
    {
     "name": "stdout",
     "output_type": "stream",
     "text": [
      "<class 'pandas.core.series.Series'>\n",
      "Int64Index: 14276 entries, 0 to 22838\n",
      "Series name: dst_ipint\n",
      "Non-Null Count  Dtype\n",
      "--------------  -----\n",
      "14276 non-null  int64\n",
      "dtypes: int64(1)\n",
      "memory usage: 739.1 KB\n"
     ]
    }
   ],
   "source": [
    "filtered_RIPE_df['dst_ipint'].info()"
   ]
  },
  {
   "cell_type": "code",
   "execution_count": 115,
   "id": "1ccf810c",
   "metadata": {},
   "outputs": [
    {
     "ename": "AttributeError",
     "evalue": "'Series' object has no attribute 'reference'",
     "output_type": "error",
     "traceback": [
      "\u001b[1;31m---------------------------------------------------------------------------\u001b[0m",
      "\u001b[1;31mAttributeError\u001b[0m                            Traceback (most recent call last)",
      "\u001b[1;32m<ipython-input-115-a5d8a9d463bb>\u001b[0m in \u001b[0;36m<module>\u001b[1;34m\u001b[0m\n\u001b[1;32m----> 1\u001b[1;33m \u001b[0ma\u001b[0m \u001b[1;33m=\u001b[0m \u001b[0mfiltered_RIPE_df\u001b[0m\u001b[1;33m[\u001b[0m\u001b[1;34m'dst_addr'\u001b[0m\u001b[1;33m]\u001b[0m\u001b[1;33m.\u001b[0m\u001b[0mreference\u001b[0m\u001b[1;33m.\u001b[0m\u001b[0mvalues\u001b[0m\u001b[1;33m\u001b[0m\u001b[1;33m\u001b[0m\u001b[0m\n\u001b[0m\u001b[0;32m      2\u001b[0m \u001b[0mbh\u001b[0m \u001b[1;33m=\u001b[0m \u001b[0mEU_ipv4_df\u001b[0m\u001b[1;33m[\u001b[0m\u001b[1;34m'ip_to'\u001b[0m\u001b[1;33m]\u001b[0m\u001b[1;33m.\u001b[0m\u001b[0mend\u001b[0m\u001b[1;33m.\u001b[0m\u001b[0mvalues\u001b[0m\u001b[1;33m\u001b[0m\u001b[1;33m\u001b[0m\u001b[0m\n\u001b[0;32m      3\u001b[0m \u001b[0mbl\u001b[0m \u001b[1;33m=\u001b[0m \u001b[0mEU_ipv4_df\u001b[0m\u001b[1;33m[\u001b[0m\u001b[1;34m'ip_from'\u001b[0m\u001b[1;33m]\u001b[0m\u001b[1;33m.\u001b[0m\u001b[0mstart\u001b[0m\u001b[1;33m.\u001b[0m\u001b[0mvalues\u001b[0m\u001b[1;33m\u001b[0m\u001b[1;33m\u001b[0m\u001b[0m\n\u001b[0;32m      4\u001b[0m \u001b[1;33m\u001b[0m\u001b[0m\n\u001b[0;32m      5\u001b[0m \u001b[0mi\u001b[0m\u001b[1;33m,\u001b[0m \u001b[0mj\u001b[0m \u001b[1;33m=\u001b[0m \u001b[0mnp\u001b[0m\u001b[1;33m.\u001b[0m\u001b[0mwhere\u001b[0m\u001b[1;33m(\u001b[0m\u001b[1;33m(\u001b[0m\u001b[0ma\u001b[0m\u001b[1;33m[\u001b[0m\u001b[1;33m:\u001b[0m\u001b[1;33m,\u001b[0m \u001b[1;32mNone\u001b[0m\u001b[1;33m]\u001b[0m \u001b[1;33m>=\u001b[0m \u001b[0mbl\u001b[0m\u001b[1;33m)\u001b[0m \u001b[1;33m&\u001b[0m \u001b[1;33m(\u001b[0m\u001b[0ma\u001b[0m\u001b[1;33m[\u001b[0m\u001b[1;33m:\u001b[0m\u001b[1;33m,\u001b[0m \u001b[1;32mNone\u001b[0m\u001b[1;33m]\u001b[0m \u001b[1;33m<=\u001b[0m \u001b[0mbh\u001b[0m\u001b[1;33m)\u001b[0m\u001b[1;33m)\u001b[0m\u001b[1;33m\u001b[0m\u001b[1;33m\u001b[0m\u001b[0m\n",
      "\u001b[1;32m~\\anaconda3\\envs\\myvenv\\lib\\site-packages\\pandas\\core\\generic.py\u001b[0m in \u001b[0;36m__getattr__\u001b[1;34m(self, name)\u001b[0m\n\u001b[0;32m   5581\u001b[0m         ):\n\u001b[0;32m   5582\u001b[0m             \u001b[1;32mreturn\u001b[0m \u001b[0mself\u001b[0m\u001b[1;33m[\u001b[0m\u001b[0mname\u001b[0m\u001b[1;33m]\u001b[0m\u001b[1;33m\u001b[0m\u001b[1;33m\u001b[0m\u001b[0m\n\u001b[1;32m-> 5583\u001b[1;33m         \u001b[1;32mreturn\u001b[0m \u001b[0mobject\u001b[0m\u001b[1;33m.\u001b[0m\u001b[0m__getattribute__\u001b[0m\u001b[1;33m(\u001b[0m\u001b[0mself\u001b[0m\u001b[1;33m,\u001b[0m \u001b[0mname\u001b[0m\u001b[1;33m)\u001b[0m\u001b[1;33m\u001b[0m\u001b[1;33m\u001b[0m\u001b[0m\n\u001b[0m\u001b[0;32m   5584\u001b[0m \u001b[1;33m\u001b[0m\u001b[0m\n\u001b[0;32m   5585\u001b[0m     \u001b[1;32mdef\u001b[0m \u001b[0m__setattr__\u001b[0m\u001b[1;33m(\u001b[0m\u001b[0mself\u001b[0m\u001b[1;33m,\u001b[0m \u001b[0mname\u001b[0m\u001b[1;33m:\u001b[0m \u001b[0mstr\u001b[0m\u001b[1;33m,\u001b[0m \u001b[0mvalue\u001b[0m\u001b[1;33m)\u001b[0m \u001b[1;33m->\u001b[0m \u001b[1;32mNone\u001b[0m\u001b[1;33m:\u001b[0m\u001b[1;33m\u001b[0m\u001b[1;33m\u001b[0m\u001b[0m\n",
      "\u001b[1;31mAttributeError\u001b[0m: 'Series' object has no attribute 'reference'"
     ]
    }
   ],
   "source": [
    "a = filtered_RIPE_df['dst_addr'].reference.values\n",
    "bh = EU_ipv4_df['ip_to'].end.values\n",
    "bl = EU_ipv4_df['ip_from'].start.values\n",
    "\n",
    "i, j = np.where((a[:, None] >= bl) & (a[:, None] <= bh))\n",
    "\n",
    "EU_df = pd.DataFrame(\n",
    "    np.column_stack([filtered_RIPE_df['dst_addr'][i], EU_ipv4_df['ip_to'].values[j]]),\n",
    "    columns=filtered_RIPE_df['dst_addr'].columns.append(EU_ipv4_df['ip_to'].columns)\n",
    ")\n",
    "\n",
    "# if you need not elements not in range\n",
    "\n",
    "#filtered_RIPE_df.merge(EU_df, on='reference', how='left')\n",
    "\n",
    "#filtered_RIPE_df['is_from_EU'] = filtered_RIPE_df['dst_ipint'].between(EU_ipv4_df['ip_from'], EU_ipv4_df['ip_to'])  \n",
    "#filtered_RIPE_df['is_from_EU'] = filtered_RIPE_df['dst_ipint'] >= EU_ipv4_df['ip_from'] #& (filtered_RIPE_df['dst_ipint'] < EU_ipv4_df['ip_to'])"
   ]
  },
  {
   "cell_type": "markdown",
   "id": "05b6b507",
   "metadata": {},
   "source": [
    "country n x probe id matrix -> average latency"
   ]
  },
  {
   "cell_type": "markdown",
   "id": "cde96363",
   "metadata": {},
   "source": [
    "d. Move from using only an hour to the full day. It is advisable to store the raw results of each file. Then,\n",
    "using all processed files, calculate the average latency’s for each country-AS combination and store\n",
    "the results into one ncountries ×m matrix. If we could place one server in each country, what would the\n",
    "minimum average latency be for each country? (include in your report)\n",
    "\n",
    "1. Combine all data from each hour (full day data)\n",
    "2. Calcualte the average latency for each country - AS combination \n",
    "3. Store results into one n countries x m matrix (m = probe id) or ASN?\n",
    "4. Find the minimum average latency for each country\n",
    "(do visualization for the datasets)"
   ]
  },
  {
   "cell_type": "markdown",
   "id": "8d9a58d6",
   "metadata": {},
   "source": [
    "e. Since we are only allowed to place four servers, determine the best four datacenters based on the total\n",
    "latency for all countries. Report your findings and your procedure to obtain them. Also include the\n",
    "average latency for each country.\n",
    "\n",
    "1. Find the total latency for all countries * (?)\n",
    "2. Find the average latency for each country\n",
    "3. Sort/folter based on four datacenters (Question: datacenters is attached to the country or to the probe id?)\n",
    "4. Average latency for each country.\n",
    "\n",
    "5. Report findings\n",
    "6. Report procedure to obtain them"
   ]
  },
  {
   "cell_type": "code",
   "execution_count": null,
   "id": "9d428112",
   "metadata": {},
   "outputs": [],
   "source": []
  },
  {
   "cell_type": "code",
   "execution_count": null,
   "id": "643ae475",
   "metadata": {},
   "outputs": [],
   "source": []
  }
 ],
 "metadata": {
  "kernelspec": {
   "display_name": "Python 3",
   "language": "python",
   "name": "python3"
  },
  "language_info": {
   "codemirror_mode": {
    "name": "ipython",
    "version": 3
   },
   "file_extension": ".py",
   "mimetype": "text/x-python",
   "name": "python",
   "nbconvert_exporter": "python",
   "pygments_lexer": "ipython3",
   "version": "3.9.7"
  }
 },
 "nbformat": 4,
 "nbformat_minor": 5
}
