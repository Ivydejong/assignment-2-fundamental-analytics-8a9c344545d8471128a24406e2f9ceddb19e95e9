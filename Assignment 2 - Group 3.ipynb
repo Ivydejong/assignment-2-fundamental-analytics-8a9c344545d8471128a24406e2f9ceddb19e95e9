{
 "cells": [
  {
   "cell_type": "markdown",
   "id": "6aa148a8",
   "metadata": {},
   "source": [
    "<h1><center> SEN163A - Fundamentals of Data Analytics </center>\n",
    "<center> Assignment 2 - Large Scale Internet Data Analysis  </center></h1>\n",
    "\n",
    "<center> Lecture:\n",
    "Ir. Jacopo De Stefani - [J.deStefani@tudelft.nl](mailto:J.deStefani@tudelft.nl)\n",
    "Joao Pizani Flor, M.Sc. - [J.p.pizaniflor@tudelft.nl](mailto:J.p.pizaniflor@tudelft.nl) </center>\n",
    "\n",
    "## Group 3\n",
    "- Hilmy Hanif - 5270243\n",
    "- Terence Celestina - 1524658\n",
    "- Leopoldo Ochoa Diaz - 5256992\n",
    "- Ivy de Jong - 4932935\n",
    "\n",
    "## Outline:\n",
    "1. [Introduction](#1.-Introduction)\n",
    "2. [Data Description](#2.-Data Description)\n",
    "3. [Formulation](#3.-Formulation)\n",
    "4. [Conclusion](#4.-Conclusion)\n",
    "5. [Reference](#5.-Reference)\n",
    "\n",
    "## 1. Introduction\n",
    "\n",
    "### Definition\n",
    "\n",
    "An autonomous system number is a unique identifier that is globally available and allows its autonomous system to exchange routing information with other systems.\n",
    "\n",
    "### Overview\n",
    "\n",
    "The Groote Nationale Investeer Bank (GNI Bank) is a large European bank and is preparing to enter the\n",
    "mobile banking sector. They have hired your advisory firm to prepare a strategy. Your data analytics team\n",
    "has been put on the task of finding the best four datacenter locations for hosting in the EU.\n",
    "\n",
    "\n",
    "### Requested tasks:\n",
    "- Evaluate if there are limitations in the provided datasets (AS and probe data set). If you find limitations, describe these and conjecture possible reasons, supported with data.\n",
    "- With the AS and probe data set, find the number m of AS’s that can be used for hosting in the EU and have probes in the RIPE data set. Sort the ASN’s in ascending order and include the first and last three in your report (number, name and country).\n",
    "- For a single hour in the RIPE data set: find all valid entries where the probe has hosting type AS and the target IPv4 is from an EU country. Implement this in an efficient way.\n",
    "- Move from using only an hour to the full day. It is advisable to store the raw results of each file. Then, using all processed files, calculate the average latency’s for each country-AS combination and store the results into one ncountries ×m matrix. If we could place one server in each country, what would the minimum average latency be for each country? (include in your report)\n",
    "- Since we are only allowed to place four servers, determine the best four datacenters based on the total latency for all countries. Report your findings and your procedure to obtain them. Also include the average latency for each country.\n"
   ]
  },
  {
   "cell_type": "markdown",
   "id": "fc12dac8",
   "metadata": {},
   "source": [
    "## 2. Data Description"
   ]
  },
  {
   "cell_type": "markdown",
   "id": "6cf983de",
   "metadata": {},
   "source": [
    "### Task A\n",
    "Evaluate AS data and Probe Data"
   ]
  },
  {
   "cell_type": "markdown",
   "id": "5a35e1cf",
   "metadata": {},
   "source": [
    "## AS Data"
   ]
  },
  {
   "cell_type": "code",
   "execution_count": 52,
   "id": "91fee009",
   "metadata": {},
   "outputs": [],
   "source": [
    "import pickle\n",
    "import pandas as pd\n",
    "import ipaddress\n",
    "import numpy as np\n",
    "\n",
    "# Open the file in binary mode\n",
    "with open('AS_dataset.pkl', 'rb') as file: #rb means in read mode\n",
    "\t\n",
    "\t# Call load method to deserialze\n",
    "\tAS_df = pickle.load(file)"
   ]
  },
  {
   "cell_type": "code",
   "execution_count": 53,
   "id": "f3635d63",
   "metadata": {},
   "outputs": [],
   "source": [
    "AS_df.shape #know columns and rows of the AS dataframe"
   ]
  },
  {
   "cell_type": "code",
   "execution_count": 54,
   "id": "71962c67",
   "metadata": {},
   "outputs": [],
   "source": [
    "AS_df.head(10) #show first 10 row of the dataset"
   ]
  },
  {
   "cell_type": "code",
   "execution_count": 55,
   "id": "0f78f889",
   "metadata": {},
   "outputs": [],
   "source": [
    "AS_df.tail(10) #show last 10 row of the dataset"
   ]
  },
  {
   "cell_type": "markdown",
   "id": "ce19f4c5",
   "metadata": {},
   "source": [
    "### AS Column Description\n",
    "\n",
    "- ASN : autonomus system number\n",
    "- Country : specific country that is represented by the ASN\n",
    "- Name : name of the company that use the ASN\n",
    "- NumIPs : number of IPs used for the ASN\n",
    "- Type : type of purpose of the ASN"
   ]
  },
  {
   "cell_type": "code",
   "execution_count": 56,
   "id": "006bfb44",
   "metadata": {},
   "outputs": [],
   "source": [
    "AS_df.describe() #summarize description of the AS dataframe"
   ]
  },
  {
   "cell_type": "markdown",
   "id": "4fb88131",
   "metadata": {},
   "source": [
    "From the table above, the NumIPs = 0 probably indicates that specified ASN is not used. In the next step, the NumIPs = 0 could be filtered from the data in order to use active ASN only."
   ]
  },
  {
   "cell_type": "code",
   "execution_count": 57,
   "id": "cc196662",
   "metadata": {},
   "outputs": [],
   "source": [
    "AS_df[AS_df['NumIPs'] == '0'].count() / AS_df['NumIPs'].count() \n",
    "#identify NumIPs that is equal to 0, which is not utilized."
   ]
  },
  {
   "cell_type": "markdown",
   "id": "6b13ee80",
   "metadata": {},
   "source": [
    "There are 25,12% of 0 NumIPs in the AS dataset. Take a note that later the NumIPs 0 should be filtered later to use only valid values."
   ]
  },
  {
   "cell_type": "code",
   "execution_count": 58,
   "id": "7cebb156",
   "metadata": {},
   "outputs": [],
   "source": [
    "AS_df['Country'].value_counts() #count total country in the dataset"
   ]
  },
  {
   "cell_type": "markdown",
   "id": "ba8e190c",
   "metadata": {},
   "source": [
    "There are 237 countries ranging from different continent. However this dataset only represents the country, not including the continent. To observe EU only, there should be another additional data point used to utilized only ASN from EU countries."
   ]
  },
  {
   "cell_type": "code",
   "execution_count": 59,
   "id": "3b605927",
   "metadata": {},
   "outputs": [],
   "source": [
    "AS_df['type'].value_counts() #count value of type"
   ]
  },
  {
   "cell_type": "code",
   "execution_count": 60,
   "id": "8c86a126",
   "metadata": {},
   "outputs": [],
   "source": [
    "AS_df[AS_df['NumIPs'] != '0']['type'].value_counts() #identify hosting type with NumIPs is not 0."
   ]
  },
  {
   "cell_type": "markdown",
   "id": "7502e2c3",
   "metadata": {},
   "source": [
    "There are 5 types of the ASN purpose. Later, it is obligated to filter the dataset only for 'hosting' type which consists of 2310 data."
   ]
  },
  {
   "cell_type": "code",
   "execution_count": 61,
   "id": "bc53583f",
   "metadata": {},
   "outputs": [],
   "source": [
    "AS_df.info() \n",
    "#limitation: different data types between AS and Probe data should be converted into same data type. Data from pickle should be converted first\n",
    "#format pkl data type provides all same object datatype"
   ]
  },
  {
   "cell_type": "code",
   "execution_count": 62,
   "id": "a2fd63c8",
   "metadata": {},
   "outputs": [],
   "source": [
    "AS_df = AS_df.astype(dtype={'ASN': 'string'}) #convert the data type of ASN from object to string"
   ]
  },
  {
   "cell_type": "code",
   "execution_count": 63,
   "id": "3edfaaaf",
   "metadata": {},
   "outputs": [],
   "source": [
    "AS_df['NumIPs'] = AS_df['NumIPs'].str.replace(',', '').astype(float).astype(int)\n",
    "#remove comma between numbers\n",
    "#convert to float\n",
    "#convert to int"
   ]
  },
  {
   "cell_type": "code",
   "execution_count": 64,
   "id": "0daef234",
   "metadata": {},
   "outputs": [],
   "source": [
    "AS_df.info()"
   ]
  },
  {
   "cell_type": "code",
   "execution_count": 65,
   "id": "b4a398f3",
   "metadata": {},
   "outputs": [],
   "source": [
    "AS_df.isnull().any() #find if there are any null data"
   ]
  },
  {
   "cell_type": "markdown",
   "id": "173b401c",
   "metadata": {},
   "source": [
    "There are no null data for this AS dataset"
   ]
  },
  {
   "cell_type": "markdown",
   "id": "5d3f53e0",
   "metadata": {},
   "source": [
    "## Probe Data"
   ]
  },
  {
   "cell_type": "code",
   "execution_count": 66,
   "id": "68c716d1",
   "metadata": {},
   "outputs": [],
   "source": [
    "# Open the file in binary mode\n",
    "with open('probe_dataset.pkl', 'rb') as file:\n",
    "\t\n",
    "\t# Call load method to deserialze\n",
    "\tprobe_df = pickle.load(file)"
   ]
  },
  {
   "cell_type": "code",
   "execution_count": 67,
   "id": "4fea4161",
   "metadata": {},
   "outputs": [],
   "source": [
    "probe_df.shape #identify row and column of the Probe Data. There are 2 columns and 11008 rows."
   ]
  },
  {
   "cell_type": "code",
   "execution_count": 68,
   "id": "702f46b9",
   "metadata": {},
   "outputs": [],
   "source": [
    "probe_df.head(10) #show first 10 data of Probe Data"
   ]
  },
  {
   "cell_type": "markdown",
   "id": "f99a300b",
   "metadata": {},
   "source": [
    "### Probe Data Column Description\n",
    "\n",
    "- prb_id : probe id. The probe id of the probe data is correspond to ASN. A probe is located in ASN which ASN contains information of the localization and the type.\n",
    "- ASN : autonomus system number"
   ]
  },
  {
   "cell_type": "code",
   "execution_count": 69,
   "id": "884eae7a",
   "metadata": {},
   "outputs": [],
   "source": [
    "probe_df = probe_df.astype(dtype={'ASN': 'string'})\n",
    "probe_df = probe_df.astype(dtype={'prb_id': 'int'})\n",
    "#convert the ASN and prb_id data type to string and integer"
   ]
  },
  {
   "cell_type": "code",
   "execution_count": 70,
   "id": "0abc2827",
   "metadata": {},
   "outputs": [],
   "source": [
    "probe_df.info() #the datatype of prb_id and ASN is changed."
   ]
  },
  {
   "cell_type": "code",
   "execution_count": 71,
   "id": "e2ed3fd8",
   "metadata": {},
   "outputs": [],
   "source": [
    "probe_df.describe() #describe the prb_id dataset"
   ]
  },
  {
   "cell_type": "markdown",
   "id": "d7c7e8b4",
   "metadata": {},
   "source": [
    "Unpickling: It is the inverse of Pickling process where a byte stream is converted into an object hierarchy. Therefore, the IP numbers is in integer. (?)"
   ]
  },
  {
   "cell_type": "markdown",
   "id": "b45bc7ab",
   "metadata": {},
   "source": [
    "## RIPE Data (for one hour)"
   ]
  },
  {
   "cell_type": "code",
   "execution_count": 72,
   "id": "ae985f8d",
   "metadata": {},
   "outputs": [],
   "source": [
    "import os\n",
    "import bz2\n",
    "import time\n",
    "import json\n",
    "import glob\n",
    "pd.set_option('display.max_columns', None)"
   ]
  },
  {
   "cell_type": "code",
   "execution_count": 73,
   "id": "2b5958a4",
   "metadata": {},
   "outputs": [],
   "source": [
    "#temp = pd.DataFrame()\n",
    "\n",
    "#path_to_json ='https://data-store.ripe.net/datasets/atlas-daily-dumps/2022-03-01/ping-2022-03-01T0000' \n",
    "\n",
    "#json_pattern = os.path.join(path_to_json,'*.bz2')\n",
    "#file_list = glob.glob(json_pattern)\n",
    "\n",
    "#for file in file_list:\n",
    "#    chunks = pd.read_json(file, lines=True, chunksize=1000)\n",
    "#    i = 0\n",
    "#    chunk_list = []\n",
    "#    for chunk in chunks:\n",
    "#        if i >= 10:\n",
    "#            break\n",
    "#        i += 1\n",
    "#        chunk_list.append(chunk)\n",
    "#        df = pd.concat(chunk_list, sort = True)\n",
    "#    temp = temp.append(df, sort = True)\n",
    "#temp"
   ]
  },
  {
   "cell_type": "code",
   "execution_count": 79,
   "id": "3bd3472e",
   "metadata": {},
   "outputs": [],
   "source": [
    "bz2Filename = '../ping-2022-03-01T0000.bz2'\n",
    "bz2File     = bz2.open(bz2Filename, 'rt') \n",
    "\n",
    "# List of tuples\n",
    "# https://stackoverflow.com/questions/28056171/how-to-build-and-fill-pandas-dataframe-from-for-loop\n",
    "tuple_list = []\n",
    "#read first 10 lines to estimate total loading time\n",
    "totalNrOfLines = 0;\n",
    "filteredNrOfLines = 0\n",
    "\n",
    "st  = time.time()\n",
    "for line in bz2File:\n",
    "    #print(line)\n",
    "    decoded_line = json.loads(line)\n",
    "    if(decoded_line[\"af\"] == 4):\n",
    "        filteredNrOfLines += 1\n",
    "        tuple_list.append((decoded_line[\"dst_addr\"],decoded_line[\"prb_id\"],decoded_line[\"avg\"]))\n",
    "    #print(decoded_line)\n",
    "    totalNrOfLines += 1\n",
    "    if totalNrOfLines>1000: break\n",
    "\n",
    "#print time and estimate total time            \n",
    "dur         = round(time.time() - st,2)\n",
    "estTotTime  = round( (dur/100000)*totalNrOfLines )\n",
    "print(\"\\nbz2 file:\" )\n",
    "print(\"Loading 1k lines took: \"  + str(dur) + \" seconds\")\n",
    "print(\"Estimated loading time of entire bz2 file: \"  + str(estTotTime) + \\\n",
    "      \" seconds\" )\n",
    "\n",
    "#finally close bz2File\n",
    "bz2File.close()"
   ]
  },
  {
   "cell_type": "markdown",
   "id": "2dee548b",
   "metadata": {},
   "source": [
    "The differences of dst_name and dst_address:\n",
    "Dst_address: IP address of the destination (string)\n",
    "Dst_name: name of the destination (string), could be the same as dst_address if it is not hosted yet, but the dst_name usually utilized as example: google.com, facebook.comw which actually represent the IP address."
   ]
  },
  {
   "cell_type": "markdown",
   "id": "4e6b6421",
   "metadata": {},
   "source": [
    "### IPv4 data\n",
    "\n",
    "This site or product includes IP2Location LITE data available from <a href=\"https://lite.ip2location.com\">https://lite.ip2location.com</a>."
   ]
  },
  {
   "cell_type": "markdown",
   "id": "12a64b18",
   "metadata": {},
   "source": [
    "List of EU countries (see reference):\n",
    "https://european-union.europa.eu/principles-countries-history/country-profiles_en?page=1"
   ]
  },
  {
   "cell_type": "code",
   "execution_count": 80,
   "id": "c25c2e47",
   "metadata": {},
   "outputs": [],
   "source": [
    "ipv4_df = pd.read_csv(\"IP2LOCATION-LITE-DB1.CSV\")"
   ]
  },
  {
   "cell_type": "code",
   "execution_count": 81,
   "id": "ccf52bf5",
   "metadata": {},
   "outputs": [],
   "source": [
    "ipv4_df.shape #identify total rows and columns in IPv4 data"
   ]
  },
  {
   "cell_type": "code",
   "execution_count": 82,
   "id": "94698517",
   "metadata": {},
   "outputs": [],
   "source": [
    "ipv4_df.head() #display first 5 data of ipv4 data"
   ]
  },
  {
   "cell_type": "code",
   "execution_count": 83,
   "id": "5aee6e2c",
   "metadata": {},
   "outputs": [],
   "source": [
    "ipv4_df.rename(columns = {'0':'ip_from', '16777215':'ip_to',\n",
    "                              '-':'country_code','-.1':'country_name'}, inplace = True) #add column name"
   ]
  },
  {
   "cell_type": "code",
   "execution_count": 84,
   "id": "6a6b060f",
   "metadata": {},
   "outputs": [],
   "source": [
    "ipv4_df.head() #display data with column name"
   ]
  },
  {
   "cell_type": "markdown",
   "id": "12c8b517",
   "metadata": {},
   "source": [
    "### IPv4 Data Column Description\n",
    "\n",
    "- ip_from: lowest range of the IP in the country\n",
    "- ip_to: highest range of the IP in the country\n",
    "- country_code: code of country with range of IP's\n",
    "- country_name: name of country with range of IP's"
   ]
  },
  {
   "cell_type": "code",
   "execution_count": 85,
   "id": "4ca9ac9d",
   "metadata": {},
   "outputs": [],
   "source": [
    "ipv4_df.info() #collect information of the dataset"
   ]
  },
  {
   "cell_type": "markdown",
   "id": "b0777be0",
   "metadata": {},
   "source": [
    "### Task B\n",
    "Evaluate the number m of AS’s that can be used for hosting in the EU\n",
    "and have probes in the RIPE data set."
   ]
  },
  {
   "cell_type": "code",
   "execution_count": 86,
   "id": "f11c977e",
   "metadata": {},
   "outputs": [],
   "source": [
    "#merge the AS dataset and Probe data\n",
    "AS_pb_joined = probe_df.merge(AS_df, left_on='ASN', right_on='ASN', how='inner')\n",
    "AS_pb_joined = AS_pb_joined.replace(np.nan,'', regex=True) "
   ]
  },
  {
   "cell_type": "code",
   "execution_count": 87,
   "id": "cf3d76a0",
   "metadata": {
    "scrolled": true
   },
   "outputs": [],
   "source": [
    "AS_pb_joined.tail() #show last 5 of the merged dataset"
   ]
  },
  {
   "cell_type": "code",
   "execution_count": 88,
   "id": "91933650",
   "metadata": {},
   "outputs": [],
   "source": [
    "AS_pb_joined.info() #identify the datatype of the merged dataset"
   ]
  },
  {
   "cell_type": "code",
   "execution_count": 89,
   "id": "c57fe166",
   "metadata": {},
   "outputs": [],
   "source": [
    "print(AS_pb_joined[AS_pb_joined.prb_id == AS_pb_joined.prb_id.max()]) #identify max value of the prb_id"
   ]
  },
  {
   "cell_type": "code",
   "execution_count": 409,
   "id": "c459dbaa",
   "metadata": {},
   "outputs": [
    {
     "name": "stdout",
     "output_type": "stream",
     "text": [
      "['AT', 'BE', 'BG', 'HR', 'CY', 'CZ', 'DK', 'EE', 'FI', 'FR', 'DE', 'GR', 'HU', 'IE', 'IT', 'LV', 'LT', 'LU', 'MT', 'NL', 'PL', 'PT', 'RO', 'SK', 'SI', 'ES', 'SE']\n"
     ]
    }
   ],
   "source": [
    "#add new column for determining EU or non-EU\n",
    "# read text file\n",
    "my_file = open(\"EU_country.txt\", \"r\")\n",
    "  \n",
    "# reading the file\n",
    "data = my_file.read()\n",
    "  \n",
    "# replacing end splitting the text \n",
    "# when newline ('\\n') is seen.\n",
    "EU_country_list = data.split(\"\\n\")\n",
    "print(EU_country_list)\n",
    "my_file.close()"
   ]
  },
  {
   "cell_type": "code",
   "execution_count": 91,
   "id": "27934284",
   "metadata": {},
   "outputs": [],
   "source": [
    "#filter hosting type of AS_pb_joined\n",
    "AS_pb_joined = AS_pb_joined[AS_pb_joined['type'] == 'hosting']"
   ]
  },
  {
   "cell_type": "code",
   "execution_count": 92,
   "id": "4c98f50f",
   "metadata": {},
   "outputs": [],
   "source": [
    "#filter the AS_pb_joined only to EU country\n",
    "EU_AS_pb_joined = AS_pb_joined[AS_pb_joined.Country.isin(EU_country_list)]"
   ]
  },
  {
   "cell_type": "code",
   "execution_count": 93,
   "id": "1531088a",
   "metadata": {},
   "outputs": [],
   "source": [
    "#show 10 first dataset of EU_AS_pb_joined\n",
    "EU_AS_pb_joined.head(10)"
   ]
  },
  {
   "cell_type": "code",
   "execution_count": 94,
   "id": "8343397e",
   "metadata": {},
   "outputs": [],
   "source": [
    "#describe the dataset\n",
    "EU_AS_pb_joined.describe"
   ]
  },
  {
   "cell_type": "code",
   "execution_count": 95,
   "id": "d141a17c",
   "metadata": {},
   "outputs": [],
   "source": [
    "EU_AS_pb_joined[EU_AS_pb_joined['NumIPs'] == '0'].count()  #identify row with NumIPs = 0"
   ]
  },
  {
   "cell_type": "markdown",
   "id": "51dd59f3",
   "metadata": {},
   "source": [
    "There are 339 rows which filtered by:\n",
    "Type = Hosting;\n",
    "Country = in Europe;\n",
    "And within the dataset, the NumIPs = 0 is already excluded."
   ]
  },
  {
   "cell_type": "code",
   "execution_count": 96,
   "id": "7b6a1522",
   "metadata": {},
   "outputs": [],
   "source": [
    "#sort the ASN's in ascending order \n",
    "sorted_df = EU_AS_pb_joined.sort_values('ASN', key=lambda x: x.str.extract('(\\d+)').squeeze().astype(int))\n",
    "print(sorted_df)"
   ]
  },
  {
   "cell_type": "code",
   "execution_count": 97,
   "id": "ed1e3f2a",
   "metadata": {},
   "outputs": [],
   "source": [
    "#show 3 first data of the sorted dataset\n",
    "sorted_df[['ASN', 'Name', 'Country']].head(3)"
   ]
  },
  {
   "cell_type": "code",
   "execution_count": 98,
   "id": "91ed59f9",
   "metadata": {},
   "outputs": [],
   "source": [
    "#show 3 last data of the sorted dataset\n",
    "sorted_df[['ASN', 'Name', 'Country']].tail(3)"
   ]
  },
  {
   "cell_type": "code",
   "execution_count": 99,
   "id": "9436a191",
   "metadata": {},
   "outputs": [],
   "source": [
    "unique_sorted_df = sorted_df.ASN.unique()\n",
    "len(unique_sorted_df)"
   ]
  },
  {
   "cell_type": "markdown",
   "id": "b2b7a343",
   "metadata": {},
   "source": [
    "There are 145 unique ASN from 339 rows of sorted dataset."
   ]
  },
  {
   "cell_type": "markdown",
   "id": "29830366",
   "metadata": {},
   "source": [
    "### Task C\n",
    "For a single hour in the RIPE data set: find all valid entries where the probe has hosting type AS and\n",
    "the target IPv4 is from an EU country. Implement this in an efficient way"
   ]
  },
  {
   "cell_type": "code",
   "execution_count": 100,
   "id": "513f487e",
   "metadata": {},
   "outputs": [],
   "source": [
    "#store the timestamp to integer (or convert as you want as required)"
   ]
  },
  {
   "cell_type": "code",
   "execution_count": 130,
   "id": "4729c16f-eb81-4a8d-bb6f-75c101e2e679",
   "metadata": {},
   "outputs": [],
   "source": [
    "prb_id_values=list(set(sorted_df.prb_id.values))"
   ]
  },
  {
   "cell_type": "code",
   "execution_count": 101,
   "id": "affb9a20",
   "metadata": {},
   "outputs": [],
   "source": [
    "#decoded_line = filter(lambda decoded_line: decoded_line['mver'], decoded_line)"
   ]
  },
  {
   "cell_type": "code",
   "execution_count": null,
   "id": "60b984df-f27b-4568-b827-8942c7e80da4",
   "metadata": {},
   "outputs": [],
   "source": [
    "ip_ranges_all = list(zip(EUip_df.ip_from, EUip_df.ip_to))"
   ]
  },
  {
   "cell_type": "code",
   "execution_count": 253,
   "id": "f5550401-c170-4dd6-bb81-c7c712e7fac6",
   "metadata": {},
   "outputs": [],
   "source": [
    "EU_ipv4_df = ipv4_df[ipv4_df.country_code.isin(EU_country_list)]\n",
    "\n",
    "#Make a zip list of IP addresses within the EU:\n",
    "ip_eu = list(zip(EU_ipv4_df.ip_from, EU_ipv4_df.ip_to))"
   ]
  },
  {
   "cell_type": "code",
   "execution_count": null,
   "id": "ad92794d-8065-46a8-8f1d-c74b0855a875",
   "metadata": {},
   "outputs": [],
   "source": [
    "#Adapted a version of this C++ https://stackoverflow.com/questions/22370851/binary-search-for-a-range.\n",
    "#This function should help me only pick up IP addresses that are between low and high (being IP ranges)"
   ]
  },
  {
   "cell_type": "code",
   "execution_count": 274,
   "id": "ab422a7f-3862-4164-ad56-77261cc41830",
   "metadata": {},
   "outputs": [],
   "source": [
    "def ip_exist_eu(ip, ip_eu): \n",
    "    \n",
    "    low, high = 0, len(ip_eu)\n",
    "    \n",
    "    for n in range(len(ip_eu)):\n",
    "        mid = low + (high - low) // 2\n",
    "        \n",
    "        if value <= ip_eu[mid - 1][1]: \n",
    "            right = mid\n",
    "        elif value >= ip_eu[mid][0]:\n",
    "            left = mid\n",
    "        else: return None\n",
    "\n",
    "    if ip[left][0]<=value<=ip[left][1]:\n",
    "        return True\n",
    "    else:\n",
    "        return False\n",
    "            "
   ]
  },
  {
   "cell_type": "code",
   "execution_count": 413,
   "id": "30a54235",
   "metadata": {},
   "outputs": [
    {
     "name": "stdout",
     "output_type": "stream",
     "text": [
      "\n",
      "bz2 file:../ping-2022-03-01T0000.bz2\n",
      "Loading 1000001 lines took: 43.79 seconds\n",
      "Selected 22516 lines\n"
     ]
    }
   ],
   "source": [
    "import ipaddress\n",
    "bz2Filename = '../ping-2022-03-01T0000.bz2'\n",
    "bz2File     = bz2.open(bz2Filename, 'rt') \n",
    "\n",
    "# List of tuples\n",
    "# https://stackoverflow.com/questions/28056171/how-to-build-and-fill-pandas-dataframe-from-for-loop\n",
    "tuple_list = []\n",
    "probes_in_RIPE_list = []\n",
    "#read first 10 lines to estimate total loading time\n",
    "totalNrOfLines = 0\n",
    "filteredNrOfLines = 0\n",
    "\n",
    "start  = time.time()\n",
    "for line in bz2File:\n",
    "    #print(line)\n",
    "    decoded_line = json.loads(line)\n",
    "    if \"af\" in decoded_line and \"dst_addr\" in decoded_line and \"prb_id\" in decoded_line and \"avg\":\n",
    "        #added extra logic in this IF statement to apply the function I defined above (for belonging to EU or not)\n",
    "        if(decoded_line[\"af\"] == 4 and (decoded_line[\"prb_id\"] in sorted_df[\"prb_id\"]) and (decoded_line[\"avg\"] > 0)):\n",
    "            filteredNrOfLines += 1\n",
    "            probes_in_RIPE_list.append(decoded_line[\"prb_id\"])\n",
    "            tuple_list.append((decoded_line[\"dst_addr\"],decoded_line[\"prb_id\"],decoded_line[\"avg\"]))\n",
    "    #print(decoded_line)\n",
    "    totalNrOfLines += 1\n",
    "    if totalNrOfLines > 1000000:\n",
    "        break\n",
    "\n",
    "duration = round(time.time() - start,2)\n",
    "print(\"\\nbz2 file:\"+ str(bz2Filename) )\n",
    "print(\"Loading \" + str(totalNrOfLines) +  \" lines took: \"  + str(duration) + \" seconds\")\n",
    "print(\"Selected \" + str(filteredNrOfLines) +  \" lines\")\n"
   ]
  },
  {
   "cell_type": "code",
   "execution_count": 397,
   "id": "923ad913",
   "metadata": {},
   "outputs": [],
   "source": [
    "probes_set = set(probes_in_RIPE_list) #set probes in RIPE list"
   ]
  },
  {
   "cell_type": "code",
   "execution_count": 423,
   "id": "1e0bbf41",
   "metadata": {},
   "outputs": [],
   "source": [
    "filtered_RIPE_df = pd.DataFrame(tuple_list, columns=('dst_addr', 'prb_id', 'avg')) #mapping dst_addr, prb_id and avg in a new dataframe"
   ]
  },
  {
   "cell_type": "code",
   "execution_count": 424,
   "id": "cc4ef460-c31f-4005-bf34-69fc19635d12",
   "metadata": {},
   "outputs": [
    {
     "data": {
      "text/html": [
       "<div>\n",
       "<style scoped>\n",
       "    .dataframe tbody tr th:only-of-type {\n",
       "        vertical-align: middle;\n",
       "    }\n",
       "\n",
       "    .dataframe tbody tr th {\n",
       "        vertical-align: top;\n",
       "    }\n",
       "\n",
       "    .dataframe thead th {\n",
       "        text-align: right;\n",
       "    }\n",
       "</style>\n",
       "<table border=\"1\" class=\"dataframe\">\n",
       "  <thead>\n",
       "    <tr style=\"text-align: right;\">\n",
       "      <th></th>\n",
       "      <th>dst_addr</th>\n",
       "      <th>prb_id</th>\n",
       "      <th>avg</th>\n",
       "    </tr>\n",
       "  </thead>\n",
       "  <tbody>\n",
       "    <tr>\n",
       "      <th>0</th>\n",
       "      <td>193.0.19.60</td>\n",
       "      <td>10603</td>\n",
       "      <td>34.819981</td>\n",
       "    </tr>\n",
       "    <tr>\n",
       "      <th>1</th>\n",
       "      <td>129.13.73.54</td>\n",
       "      <td>10603</td>\n",
       "      <td>44.838081</td>\n",
       "    </tr>\n",
       "    <tr>\n",
       "      <th>2</th>\n",
       "      <td>81.91.95.116</td>\n",
       "      <td>10603</td>\n",
       "      <td>45.931803</td>\n",
       "    </tr>\n",
       "    <tr>\n",
       "      <th>3</th>\n",
       "      <td>5.188.108.64</td>\n",
       "      <td>10603</td>\n",
       "      <td>18.466986</td>\n",
       "    </tr>\n",
       "    <tr>\n",
       "      <th>4</th>\n",
       "      <td>80.67.181.29</td>\n",
       "      <td>10603</td>\n",
       "      <td>38.368946</td>\n",
       "    </tr>\n",
       "    <tr>\n",
       "      <th>...</th>\n",
       "      <td>...</td>\n",
       "      <td>...</td>\n",
       "      <td>...</td>\n",
       "    </tr>\n",
       "    <tr>\n",
       "      <th>22511</th>\n",
       "      <td>182.161.74.241</td>\n",
       "      <td>6851</td>\n",
       "      <td>263.403971</td>\n",
       "    </tr>\n",
       "    <tr>\n",
       "      <th>22512</th>\n",
       "      <td>85.187.20.236</td>\n",
       "      <td>6851</td>\n",
       "      <td>67.888080</td>\n",
       "    </tr>\n",
       "    <tr>\n",
       "      <th>22513</th>\n",
       "      <td>18.228.126.142</td>\n",
       "      <td>6851</td>\n",
       "      <td>221.234405</td>\n",
       "    </tr>\n",
       "    <tr>\n",
       "      <th>22514</th>\n",
       "      <td>185.92.128.30</td>\n",
       "      <td>6851</td>\n",
       "      <td>137.254248</td>\n",
       "    </tr>\n",
       "    <tr>\n",
       "      <th>22515</th>\n",
       "      <td>94.203.76.219</td>\n",
       "      <td>6851</td>\n",
       "      <td>153.540404</td>\n",
       "    </tr>\n",
       "  </tbody>\n",
       "</table>\n",
       "<p>22516 rows × 3 columns</p>\n",
       "</div>"
      ],
      "text/plain": [
       "             dst_addr  prb_id         avg\n",
       "0         193.0.19.60   10603   34.819981\n",
       "1        129.13.73.54   10603   44.838081\n",
       "2        81.91.95.116   10603   45.931803\n",
       "3        5.188.108.64   10603   18.466986\n",
       "4        80.67.181.29   10603   38.368946\n",
       "...               ...     ...         ...\n",
       "22511  182.161.74.241    6851  263.403971\n",
       "22512   85.187.20.236    6851   67.888080\n",
       "22513  18.228.126.142    6851  221.234405\n",
       "22514   185.92.128.30    6851  137.254248\n",
       "22515   94.203.76.219    6851  153.540404\n",
       "\n",
       "[22516 rows x 3 columns]"
      ]
     },
     "execution_count": 424,
     "metadata": {},
     "output_type": "execute_result"
    }
   ],
   "source": [
    "filtered_RIPE_df"
   ]
  },
  {
   "cell_type": "code",
   "execution_count": 431,
   "id": "dd3597c4-3f8e-4577-9ae3-5c44e05132dd",
   "metadata": {},
   "outputs": [],
   "source": [
    "dictionary_ip=[]\n",
    "for n in EU_country_list:\n",
    "    \n",
    "    temp=EU_ipv4_df[EU_ipv4_df['country_code']==n]\n",
    "    ip_eu = list(zip(temp.ip_from, temp.ip_to))\n",
    "    \n",
    "    for i in range(filtered_RIPE_df.shape[0]):\n",
    "                   \n",
    "        if ip_exist(int(ipaddress.IPv4Address(filtered_RIPE_df['dst_addr'][i])),ip_eu):\n",
    "                temp_dataset=pd.DataFrame(columns=['IP Address', 'Country_Code'])\n",
    "                ip_add=int(ipaddress.IPv4Address(filtered_RIPE_df['dst_addr'][i]))\n",
    "                country=n\n",
    "                case={'ip_add': ip_add, 'country':n}\n",
    "                dictionary_ip.append(case)\n",
    "        else:\n",
    "            pass\n",
    "    "
   ]
  },
  {
   "cell_type": "code",
   "execution_count": 433,
   "id": "7275d782-54d9-456b-8297-e417ecc2b69a",
   "metadata": {},
   "outputs": [],
   "source": [
    "#Here are all the EU specific IP addresses \n",
    "#dictionary_ip"
   ]
  },
  {
   "cell_type": "code",
   "execution_count": 434,
   "id": "2d5a9044-4f12-4b59-8cb2-16567b0e4400",
   "metadata": {},
   "outputs": [
    {
     "name": "stdout",
     "output_type": "stream",
     "text": [
      "AT:89.20559681907709\n",
      "BE:73.53399177422514\n",
      "BG:99.9601853806574\n",
      "HR:116.42880753535754\n",
      "CYnot found\n",
      "CZ:83.53638882076334\n",
      "DK:89.84542445218564\n",
      "EE:97.55639063636364\n",
      "FI:84.70771428078864\n",
      "FR:86.22186735900759\n",
      "DE:83.9806181108743\n",
      "GR:107.83651495995271\n",
      "HU:107.88417809194824\n",
      "IE:87.46615228000202\n",
      "IT:85.19865502823502\n",
      "LV:81.93910908200948\n",
      "LT:98.34591091419112\n",
      "LU:84.5238143070709\n",
      "MTnot found\n",
      "NL:73.55090694232969\n",
      "PL:100.48087317070139\n",
      "PT:122.69124855555496\n",
      "RO:105.99527948148445\n",
      "SKnot found\n",
      "SI:98.97732270270272\n",
      "ES:91.19195961027522\n",
      "SE:83.19690695738521\n"
     ]
    }
   ],
   "source": [
    "for n in EU_country_list:\n",
    "    \n",
    "    temp=EU_ipv4_df[EU_ipv4_df['country_code']==n]\n",
    "    ip_eu = list(zip(temp.ip_from, temp.ip_to))\n",
    "    p=0\n",
    "    c=0\n",
    "    \n",
    "    for i in range(filtered_RIPE_df.shape[0]):\n",
    "                   \n",
    "        if ip_exist(int(ipaddress.IPv4Address(filtered_RIPE_df['dst_addr'][i])),ip_eu):\n",
    "                p=p+filtered_RIPE_df['avg'][i]\n",
    "                c=c+1\n",
    "        else:\n",
    "            pass\n",
    "    if c!=0:\n",
    "        print(str(n) +':' +str(p/c))\n",
    "    else:\n",
    "        print(str(n) + 'not found')\n",
    "    \n",
    "    "
   ]
  },
  {
   "cell_type": "code",
   "execution_count": 435,
   "id": "abe43e78",
   "metadata": {},
   "outputs": [
    {
     "data": {
      "text/html": [
       "<div>\n",
       "<style scoped>\n",
       "    .dataframe tbody tr th:only-of-type {\n",
       "        vertical-align: middle;\n",
       "    }\n",
       "\n",
       "    .dataframe tbody tr th {\n",
       "        vertical-align: top;\n",
       "    }\n",
       "\n",
       "    .dataframe thead th {\n",
       "        text-align: right;\n",
       "    }\n",
       "</style>\n",
       "<table border=\"1\" class=\"dataframe\">\n",
       "  <thead>\n",
       "    <tr style=\"text-align: right;\">\n",
       "      <th></th>\n",
       "      <th>prb_id</th>\n",
       "      <th>avg</th>\n",
       "    </tr>\n",
       "  </thead>\n",
       "  <tbody>\n",
       "    <tr>\n",
       "      <th>count</th>\n",
       "      <td>22516.000000</td>\n",
       "      <td>22516.000000</td>\n",
       "    </tr>\n",
       "    <tr>\n",
       "      <th>mean</th>\n",
       "      <td>6650.103082</td>\n",
       "      <td>126.341176</td>\n",
       "    </tr>\n",
       "    <tr>\n",
       "      <th>std</th>\n",
       "      <td>594.230947</td>\n",
       "      <td>95.870864</td>\n",
       "    </tr>\n",
       "    <tr>\n",
       "      <th>min</th>\n",
       "      <td>2522.000000</td>\n",
       "      <td>0.043484</td>\n",
       "    </tr>\n",
       "    <tr>\n",
       "      <th>25%</th>\n",
       "      <td>6471.000000</td>\n",
       "      <td>38.857379</td>\n",
       "    </tr>\n",
       "    <tr>\n",
       "      <th>50%</th>\n",
       "      <td>6747.000000</td>\n",
       "      <td>104.669757</td>\n",
       "    </tr>\n",
       "    <tr>\n",
       "      <th>75%</th>\n",
       "      <td>6879.000000</td>\n",
       "      <td>200.932182</td>\n",
       "    </tr>\n",
       "    <tr>\n",
       "      <th>max</th>\n",
       "      <td>10678.000000</td>\n",
       "      <td>1100.504714</td>\n",
       "    </tr>\n",
       "  </tbody>\n",
       "</table>\n",
       "</div>"
      ],
      "text/plain": [
       "             prb_id           avg\n",
       "count  22516.000000  22516.000000\n",
       "mean    6650.103082    126.341176\n",
       "std      594.230947     95.870864\n",
       "min     2522.000000      0.043484\n",
       "25%     6471.000000     38.857379\n",
       "50%     6747.000000    104.669757\n",
       "75%     6879.000000    200.932182\n",
       "max    10678.000000   1100.504714"
      ]
     },
     "execution_count": 435,
     "metadata": {},
     "output_type": "execute_result"
    }
   ],
   "source": [
    "filtered_RIPE_df.head() #show filtered RIPE with dst_addr, prb_id and avg columns"
   ]
  },
  {
   "cell_type": "code",
   "execution_count": 308,
   "id": "711a4a47",
   "metadata": {},
   "outputs": [
    {
     "data": {
      "text/plain": [
       "dst_addr    False\n",
       "prb_id      False\n",
       "avg         False\n",
       "dtype: bool"
      ]
     },
     "execution_count": 308,
     "metadata": {},
     "output_type": "execute_result"
    }
   ],
   "source": [
    "filtered_RIPE_df.isnull().any() #check wether there are null value in the dataset"
   ]
  },
  {
   "cell_type": "code",
   "execution_count": 309,
   "id": "5e37f551",
   "metadata": {},
   "outputs": [
    {
     "data": {
      "text/plain": [
       "count              85\n",
       "unique             74\n",
       "top       92.60.13.86\n",
       "freq                3\n",
       "Name: dst_addr, dtype: object"
      ]
     },
     "execution_count": 309,
     "metadata": {},
     "output_type": "execute_result"
    }
   ],
   "source": [
    "filtered_RIPE_df['dst_addr'].describe()"
   ]
  },
  {
   "cell_type": "code",
   "execution_count": 310,
   "id": "7819524a",
   "metadata": {},
   "outputs": [
    {
     "data": {
      "text/plain": [
       "'129.13.73.54'"
      ]
     },
     "execution_count": 310,
     "metadata": {},
     "output_type": "execute_result"
    }
   ],
   "source": [
    "filtered_RIPE_df['dst_addr'].min()"
   ]
  },
  {
   "cell_type": "markdown",
   "id": "f28b8d2c",
   "metadata": {},
   "source": [
    "There are no 0.0.0.0 dst_addr which means the dataset for dst_addr is already valid"
   ]
  },
  {
   "cell_type": "code",
   "execution_count": 311,
   "id": "c1d306e8",
   "metadata": {},
   "outputs": [
    {
     "data": {
      "text/plain": [
       "count       85.000000\n",
       "mean      7161.670588\n",
       "std       1351.769849\n",
       "min       6424.000000\n",
       "25%       6424.000000\n",
       "50%       6851.000000\n",
       "75%       6852.000000\n",
       "max      10664.000000\n",
       "Name: prb_id, dtype: float64"
      ]
     },
     "execution_count": 311,
     "metadata": {},
     "output_type": "execute_result"
    }
   ],
   "source": [
    "filtered_RIPE_df['prb_id'].describe()"
   ]
  },
  {
   "cell_type": "markdown",
   "id": "25075bb8",
   "metadata": {},
   "source": [
    "Minimum and maximum value of prb_id is 2522 and 10678 respectively which means the dataset is valid"
   ]
  },
  {
   "cell_type": "code",
   "execution_count": 312,
   "id": "b3b0605e",
   "metadata": {},
   "outputs": [
    {
     "data": {
      "text/plain": [
       "count    85.000000\n",
       "mean     31.822000\n",
       "std      14.307192\n",
       "min       3.063185\n",
       "25%      20.833419\n",
       "50%      31.650608\n",
       "75%      41.008934\n",
       "max      67.664701\n",
       "Name: avg, dtype: float64"
      ]
     },
     "execution_count": 312,
     "metadata": {},
     "output_type": "execute_result"
    }
   ],
   "source": [
    "filtered_RIPE_df['avg'].describe()"
   ]
  },
  {
   "cell_type": "markdown",
   "id": "0976eebb",
   "metadata": {},
   "source": [
    "Minimum and maximum value of avg is 0.025559 and 1138.807999 which means the dataset is valid"
   ]
  },
  {
   "cell_type": "code",
   "execution_count": 313,
   "id": "acc180a9",
   "metadata": {},
   "outputs": [],
   "source": [
    "#combine filtered_RIPE_df with sorted_df\n",
    "#merge the AS dataset and Probe data\n",
    "filtered_RIPE_df = filtered_RIPE_df.merge(sorted_df, left_on='prb_id', right_on='prb_id', how='inner')\n",
    "filtered_RIPE_df = filtered_RIPE_df.replace(np.nan,'', regex=True) "
   ]
  },
  {
   "cell_type": "code",
   "execution_count": 314,
   "id": "c43b4b7e",
   "metadata": {},
   "outputs": [
    {
     "data": {
      "text/html": [
       "<div>\n",
       "<style scoped>\n",
       "    .dataframe tbody tr th:only-of-type {\n",
       "        vertical-align: middle;\n",
       "    }\n",
       "\n",
       "    .dataframe tbody tr th {\n",
       "        vertical-align: top;\n",
       "    }\n",
       "\n",
       "    .dataframe thead th {\n",
       "        text-align: right;\n",
       "    }\n",
       "</style>\n",
       "<table border=\"1\" class=\"dataframe\">\n",
       "  <thead>\n",
       "    <tr style=\"text-align: right;\">\n",
       "      <th></th>\n",
       "      <th>dst_addr</th>\n",
       "      <th>prb_id</th>\n",
       "      <th>avg</th>\n",
       "      <th>ASN</th>\n",
       "      <th>Country</th>\n",
       "      <th>Name</th>\n",
       "      <th>NumIPs</th>\n",
       "      <th>type</th>\n",
       "    </tr>\n",
       "  </thead>\n",
       "  <tbody>\n",
       "  </tbody>\n",
       "</table>\n",
       "</div>"
      ],
      "text/plain": [
       "Empty DataFrame\n",
       "Columns: [dst_addr, prb_id, avg, ASN, Country, Name, NumIPs, type]\n",
       "Index: []"
      ]
     },
     "execution_count": 314,
     "metadata": {},
     "output_type": "execute_result"
    }
   ],
   "source": [
    "filtered_RIPE_df.head()"
   ]
  },
  {
   "cell_type": "code",
   "execution_count": 315,
   "id": "1621d31e",
   "metadata": {},
   "outputs": [],
   "source": [
    "#convert ipaddress from IPv4 format to integer format\n",
    "import ipaddress\n",
    "filtered_RIPE_df[\"dst_ipint\"] = filtered_RIPE_df[\"dst_addr\"].apply(lambda x:int(ipaddress.IPv4Address(x)))"
   ]
  },
  {
   "cell_type": "code",
   "execution_count": 316,
   "id": "c450302f",
   "metadata": {},
   "outputs": [
    {
     "data": {
      "text/html": [
       "<div>\n",
       "<style scoped>\n",
       "    .dataframe tbody tr th:only-of-type {\n",
       "        vertical-align: middle;\n",
       "    }\n",
       "\n",
       "    .dataframe tbody tr th {\n",
       "        vertical-align: top;\n",
       "    }\n",
       "\n",
       "    .dataframe thead th {\n",
       "        text-align: right;\n",
       "    }\n",
       "</style>\n",
       "<table border=\"1\" class=\"dataframe\">\n",
       "  <thead>\n",
       "    <tr style=\"text-align: right;\">\n",
       "      <th></th>\n",
       "      <th>dst_addr</th>\n",
       "      <th>prb_id</th>\n",
       "      <th>avg</th>\n",
       "      <th>ASN</th>\n",
       "      <th>Country</th>\n",
       "      <th>Name</th>\n",
       "      <th>NumIPs</th>\n",
       "      <th>type</th>\n",
       "      <th>dst_ipint</th>\n",
       "    </tr>\n",
       "  </thead>\n",
       "  <tbody>\n",
       "  </tbody>\n",
       "</table>\n",
       "</div>"
      ],
      "text/plain": [
       "Empty DataFrame\n",
       "Columns: [dst_addr, prb_id, avg, ASN, Country, Name, NumIPs, type, dst_ipint]\n",
       "Index: []"
      ]
     },
     "execution_count": 316,
     "metadata": {},
     "output_type": "execute_result"
    }
   ],
   "source": [
    "filtered_RIPE_df.head() #show the new filtered_RIPE_df.head and now there is new column of IP with integer format"
   ]
  },
  {
   "cell_type": "code",
   "execution_count": 214,
   "id": "8283d1a0",
   "metadata": {
    "scrolled": true
   },
   "outputs": [
    {
     "data": {
      "text/plain": [
       "dst_addr     876\n",
       "prb_id       876\n",
       "avg          876\n",
       "ASN          876\n",
       "Country      876\n",
       "Name         876\n",
       "NumIPs       876\n",
       "type         876\n",
       "dst_ipint    876\n",
       "dtype: int64"
      ]
     },
     "execution_count": 214,
     "metadata": {},
     "output_type": "execute_result"
    }
   ],
   "source": [
    "filtered_RIPE_df.count() #filtered_RIPE_df for EU country only since it is merged with AS dataset that already filtered by EU only"
   ]
  },
  {
   "cell_type": "markdown",
   "id": "66a0f599",
   "metadata": {},
   "source": [
    "From total 648635 data in the 1 hour dataset, the data which already filtered by hosting type and used probe id (prb_id) is 22839 which is only 3.5% of total data in 1 hour.\n",
    "\n",
    "Now, filter the data to identify data which target IPv4 is from an EU country only with reference to ipv4_df dataset."
   ]
  },
  {
   "cell_type": "code",
   "execution_count": 215,
   "id": "e95bd071",
   "metadata": {},
   "outputs": [
    {
     "data": {
      "text/html": [
       "<div>\n",
       "<style scoped>\n",
       "    .dataframe tbody tr th:only-of-type {\n",
       "        vertical-align: middle;\n",
       "    }\n",
       "\n",
       "    .dataframe tbody tr th {\n",
       "        vertical-align: top;\n",
       "    }\n",
       "\n",
       "    .dataframe thead th {\n",
       "        text-align: right;\n",
       "    }\n",
       "</style>\n",
       "<table border=\"1\" class=\"dataframe\">\n",
       "  <thead>\n",
       "    <tr style=\"text-align: right;\">\n",
       "      <th></th>\n",
       "      <th>ip_from</th>\n",
       "      <th>ip_to</th>\n",
       "      <th>country_code</th>\n",
       "      <th>country_name</th>\n",
       "    </tr>\n",
       "  </thead>\n",
       "  <tbody>\n",
       "    <tr>\n",
       "      <th>88</th>\n",
       "      <td>28499968</td>\n",
       "      <td>28508159</td>\n",
       "      <td>ES</td>\n",
       "      <td>Spain</td>\n",
       "    </tr>\n",
       "    <tr>\n",
       "      <th>96</th>\n",
       "      <td>28536832</td>\n",
       "      <td>28540927</td>\n",
       "      <td>FR</td>\n",
       "      <td>France</td>\n",
       "    </tr>\n",
       "    <tr>\n",
       "      <th>105</th>\n",
       "      <td>33554432</td>\n",
       "      <td>34603263</td>\n",
       "      <td>FR</td>\n",
       "      <td>France</td>\n",
       "    </tr>\n",
       "    <tr>\n",
       "      <th>106</th>\n",
       "      <td>34603264</td>\n",
       "      <td>34603519</td>\n",
       "      <td>PL</td>\n",
       "      <td>Poland</td>\n",
       "    </tr>\n",
       "    <tr>\n",
       "      <th>107</th>\n",
       "      <td>34603520</td>\n",
       "      <td>34603775</td>\n",
       "      <td>CZ</td>\n",
       "      <td>Czechia</td>\n",
       "    </tr>\n",
       "    <tr>\n",
       "      <th>...</th>\n",
       "      <td>...</td>\n",
       "      <td>...</td>\n",
       "      <td>...</td>\n",
       "      <td>...</td>\n",
       "    </tr>\n",
       "    <tr>\n",
       "      <th>246</th>\n",
       "      <td>34672128</td>\n",
       "      <td>34672383</td>\n",
       "      <td>PL</td>\n",
       "      <td>Poland</td>\n",
       "    </tr>\n",
       "    <tr>\n",
       "      <th>247</th>\n",
       "      <td>34672384</td>\n",
       "      <td>34673663</td>\n",
       "      <td>FR</td>\n",
       "      <td>France</td>\n",
       "    </tr>\n",
       "    <tr>\n",
       "      <th>252</th>\n",
       "      <td>34677248</td>\n",
       "      <td>34677503</td>\n",
       "      <td>FR</td>\n",
       "      <td>France</td>\n",
       "    </tr>\n",
       "    <tr>\n",
       "      <th>253</th>\n",
       "      <td>34677504</td>\n",
       "      <td>34677759</td>\n",
       "      <td>ES</td>\n",
       "      <td>Spain</td>\n",
       "    </tr>\n",
       "    <tr>\n",
       "      <th>254</th>\n",
       "      <td>34677760</td>\n",
       "      <td>34678015</td>\n",
       "      <td>FR</td>\n",
       "      <td>France</td>\n",
       "    </tr>\n",
       "  </tbody>\n",
       "</table>\n",
       "<p>100 rows × 4 columns</p>\n",
       "</div>"
      ],
      "text/plain": [
       "      ip_from     ip_to country_code country_name\n",
       "88   28499968  28508159           ES        Spain\n",
       "96   28536832  28540927           FR       France\n",
       "105  33554432  34603263           FR       France\n",
       "106  34603264  34603519           PL       Poland\n",
       "107  34603520  34603775           CZ      Czechia\n",
       "..        ...       ...          ...          ...\n",
       "246  34672128  34672383           PL       Poland\n",
       "247  34672384  34673663           FR       France\n",
       "252  34677248  34677503           FR       France\n",
       "253  34677504  34677759           ES        Spain\n",
       "254  34677760  34678015           FR       France\n",
       "\n",
       "[100 rows x 4 columns]"
      ]
     },
     "execution_count": 215,
     "metadata": {},
     "output_type": "execute_result"
    }
   ],
   "source": [
    "#first filter ipv4_df for EU only\n",
    "EU_ipv4_df = ipv4_df[ipv4_df.country_code.isin(EU_country_list)]\n",
    "EU_ipv4_df.head(100)"
   ]
  },
  {
   "cell_type": "code",
   "execution_count": 216,
   "id": "290b3842",
   "metadata": {},
   "outputs": [
    {
     "data": {
      "text/plain": [
       "ip_from         65904\n",
       "ip_to           65904\n",
       "country_code    65904\n",
       "country_name    65904\n",
       "dtype: int64"
      ]
     },
     "execution_count": 216,
     "metadata": {},
     "output_type": "execute_result"
    }
   ],
   "source": [
    "EU_ipv4_df.count() #there are 65904 rows for ipv4 in EU only"
   ]
  },
  {
   "cell_type": "code",
   "execution_count": 235,
   "id": "7ce35f8e",
   "metadata": {},
   "outputs": [
    {
     "name": "stdout",
     "output_type": "stream",
     "text": [
      "<class 'pandas.core.series.Series'>\n",
      "Int64Index: 876 entries, 0 to 875\n",
      "Series name: dst_ipint\n",
      "Non-Null Count  Dtype\n",
      "--------------  -----\n",
      "876 non-null    int64\n",
      "dtypes: int64(1)\n",
      "memory usage: 13.7 KB\n"
     ]
    }
   ],
   "source": [
    "EU_ipv4_df.head(20000)"
   ]
  },
  {
   "cell_type": "code",
   "execution_count": 236,
   "id": "93e5b741",
   "metadata": {},
   "outputs": [],
   "source": [
    "EUdf = EU_ipv4_df.head(100)\n",
    "RIPEdf = filtered_RIPE_df.head(1000000)"
   ]
  },
  {
   "cell_type": "code",
   "execution_count": 237,
   "id": "79a9be82",
   "metadata": {},
   "outputs": [
    {
     "data": {
      "text/plain": [
       "65904"
      ]
     },
     "execution_count": 237,
     "metadata": {},
     "output_type": "execute_result"
    }
   ],
   "source": [
    "len(EU_ipv4_df)"
   ]
  },
  {
   "cell_type": "code",
   "execution_count": null,
   "id": "1902eda1",
   "metadata": {},
   "outputs": [],
   "source": [
    "dict(zip(EU_ipv4_df['ip_from'], EU_ipv4_df['ip_to']))"
   ]
  },
  {
   "cell_type": "code",
   "execution_count": null,
   "id": "1667e861",
   "metadata": {},
   "outputs": [],
   "source": [
    "numbers = filtered_RIPE_df['dst_ipint']\n",
    "ranges = dict(zip(EU_ipv4_df['ip_from'], EU_ipv4_df['ip_to'])) \n",
    "score = {} # dict to store results in\n",
    "\n",
    "for number in numbers:\n",
    "    for range_name in sorted(ranges):\n",
    "        range_list = ranges[range_name]\n",
    "        groups = zip(*[iter(range_list)] * 2)\n",
    "        if any(start <= number < end for start,end in groups):\n",
    "            df3 = pd.DataFrame(numbers)\n",
    "            #scores.setdefault(range_name, 0) += 1"
   ]
  },
  {
   "cell_type": "code",
   "execution_count": null,
   "id": "3eb828b2",
   "metadata": {},
   "outputs": [],
   "source": [
    "#x = 0\n",
    "#for v in filtered_RIPE_df['dst_ipint']:\n",
    "#    if x < len(EU_ipv4_df):\n",
    "#        if v in range (EU_ipv4_df['ip_from'][x], EU_ipv4_df['ip_to'][x]):\n",
    "#            df3 = True\n",
    "#        else:\n",
    "#            x = x + 1\n",
    "#        if v in range(EU_ipv4_df['ip_from'][x], EU_ipv4_df['ip_to'][x]):\n",
    "#         return True\n",
    "#        else:\n",
    "#         return False\n",
    "#        x = x + 1\n",
    "    #EU_ipv4_df = EU_ipv4_df[(EU_ipv4_df['ip_from'] < v) &  (EU_ipv4_df['ip_to'] > v)]"
   ]
  },
  {
   "cell_type": "code",
   "execution_count": null,
   "id": "5e859914",
   "metadata": {},
   "outputs": [],
   "source": [
    "EU_ipv4_df.count()"
   ]
  },
  {
   "cell_type": "code",
   "execution_count": null,
   "id": "704caafc",
   "metadata": {},
   "outputs": [],
   "source": [
    "filtered_RIPE_df[filtered_RIPE_df['dst_ipint'].isin(range(ip_range))]"
   ]
  },
  {
   "cell_type": "code",
   "execution_count": null,
   "id": "1fcf1037",
   "metadata": {},
   "outputs": [],
   "source": [
    "EU_ipv4_df['ip_range'] = list(zip(EU_ipv4_df['ip_from'], EU_ipv4_df['ip_to']))"
   ]
  },
  {
   "cell_type": "code",
   "execution_count": null,
   "id": "ca5de567",
   "metadata": {},
   "outputs": [],
   "source": [
    "EU_ipv4_df['ip_range'] = EU_ipv4_df.apply(range(EU_ipv4_df['ip_from'].astype(int), EU_ipv4_df['ip_to'].astype(int)))"
   ]
  },
  {
   "cell_type": "code",
   "execution_count": null,
   "id": "069969a7",
   "metadata": {},
   "outputs": [],
   "source": [
    "def check(filtered_RIPE_df['dst_ipint'], EU_ipv4_df['ip_from'], EU_ipv4_df['ip_to']): # check if i is in the range. # return True or False\n",
    "    if filtered_RIPE_df['dst_ipint'] in range(EU_ipv4_df['ip_from'], EU_ipv4_df['ip_to']):\n",
    "        return True\n",
    "    else:\n",
    "        return False"
   ]
  },
  {
   "cell_type": "code",
   "execution_count": null,
   "id": "1a4fd56f",
   "metadata": {},
   "outputs": [],
   "source": [
    "#dict(zip(df.state, df.name))\n",
    "EU_ipv4_df['ip_range'] = dict(zip(EU_ipv4_df.ip_from, EU_ipv4_df.ip_to))"
   ]
  },
  {
   "cell_type": "code",
   "execution_count": null,
   "id": "5140219b",
   "metadata": {},
   "outputs": [],
   "source": [
    "a = filtered_RIPE_df['dst_addr'].reference.values\n",
    "bh = EU_ipv4_df['ip_to'].end.values\n",
    "bl = EU_ipv4_df['ip_from'].start.values\n",
    "\n",
    "i, j = np.where((a[:, None] >= bl) & (a[:, None] <= bh))\n",
    "\n",
    "EU_df = pd.DataFrame(\n",
    "    np.column_stack([filtered_RIPE_df['dst_addr'][i], EU_ipv4_df['ip_to'].values[j]]),\n",
    "    columns=filtered_RIPE_df['dst_addr'].columns.append(EU_ipv4_df['ip_to'].columns)\n",
    ")\n",
    "\n",
    "# if you need not elements not in range\n",
    "\n",
    "#filtered_RIPE_df.merge(EU_df, on='reference', how='left')\n",
    "\n",
    "#filtered_RIPE_df['is_from_EU'] = filtered_RIPE_df['dst_ipint'].between(EU_ipv4_df['ip_from'], EU_ipv4_df['ip_to'])  \n",
    "#filtered_RIPE_df['is_from_EU'] = filtered_RIPE_df['dst_ipint'] >= EU_ipv4_df['ip_from'] #& (filtered_RIPE_df['dst_ipint'] < EU_ipv4_df['ip_to'])"
   ]
  },
  {
   "cell_type": "markdown",
   "id": "3c0fe2e8",
   "metadata": {},
   "source": [
    "country n x probe id matrix -> average latency"
   ]
  },
  {
   "cell_type": "markdown",
   "id": "b2fe1a6f",
   "metadata": {},
   "source": [
    "d. Move from using only an hour to the full day. It is advisable to store the raw results of each file. Then,\n",
    "using all processed files, calculate the average latency’s for each country-AS combination and store\n",
    "the results into one ncountries ×m matrix. If we could place one server in each country, what would the\n",
    "minimum average latency be for each country? (include in your report)\n",
    "\n",
    "1. Combine all data from each hour (full day data)\n",
    "2. Calcualte the average latency for each country - AS combination \n",
    "3. Store results into one n countries x m matrix (m = probe id) or ASN?\n",
    "4. Find the minimum average latency for each country\n",
    "(do visualization for the datasets)"
   ]
  },
  {
   "cell_type": "markdown",
   "id": "7c49d264",
   "metadata": {},
   "source": [
    "e. Since we are only allowed to place four servers, determine the best four datacenters based on the total\n",
    "latency for all countries. Report your findings and your procedure to obtain them. Also include the\n",
    "average latency for each country.\n",
    "\n",
    "1. Find the total latency for all countries * (?)\n",
    "2. Find the average latency for each country\n",
    "3. Sort/folter based on four datacenters (Question: datacenters is attached to the country or to the probe id?)\n",
    "4. Average latency for each country.\n",
    "\n",
    "5. Report findings\n",
    "6. Report procedure to obtain them"
   ]
  },
  {
   "cell_type": "code",
   "execution_count": null,
   "id": "0ea54f55",
   "metadata": {},
   "outputs": [],
   "source": []
  },
  {
   "cell_type": "code",
   "execution_count": null,
   "id": "c6dc23f0",
   "metadata": {},
   "outputs": [],
   "source": []
  }
 ],
 "metadata": {
  "kernelspec": {
   "display_name": "Python 3 (ipykernel)",
   "language": "python",
   "name": "python3"
  },
  "language_info": {
   "codemirror_mode": {
    "name": "ipython",
    "version": 3
   },
   "file_extension": ".py",
   "mimetype": "text/x-python",
   "name": "python",
   "nbconvert_exporter": "python",
   "pygments_lexer": "ipython3",
   "version": "3.10.2"
  }
 },
 "nbformat": 4,
 "nbformat_minor": 5
}
